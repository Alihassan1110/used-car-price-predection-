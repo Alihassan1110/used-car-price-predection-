{
 "cells": [
  {
   "attachments": {},
   "cell_type": "markdown",
   "metadata": {},
   "source": [
    "# Import libraries"
   ]
  },
  {
   "cell_type": "code",
   "execution_count": 157,
   "metadata": {},
   "outputs": [],
   "source": [
    "import pandas as pd \n",
    "import plotly.express as px\n",
    "import matplotlib.pyplot as plt\n",
    "import numpy as np\n",
    "from sklearn.preprocessing import OneHotEncoder , minmax_scale ,RobustScaler , OrdinalEncoder , PolynomialFeatures , MinMaxScaler\n",
    "from sklearn.model_selection import train_test_split \n",
    "from sklearn.linear_model import LinearRegression , Ridge , Lasso \n",
    "from sklearn.metrics import mean_squared_error\n",
    "from category_encoders import BinaryEncoder\n",
    "import seaborn as sns"
   ]
  },
  {
   "cell_type": "code",
   "execution_count": 158,
   "metadata": {},
   "outputs": [
    {
     "name": "stdout",
     "output_type": "stream",
     "text": [
      "Requirement already satisfied: xgboost in c:\\users\\hp\\anaconda3\\lib\\site-packages (1.6.2)\n",
      "Requirement already satisfied: scipy in c:\\users\\hp\\anaconda3\\lib\\site-packages (from xgboost) (1.4.1)\n",
      "Requirement already satisfied: numpy in c:\\users\\hp\\anaconda3\\lib\\site-packages (from xgboost) (1.18.1)\n",
      "Note: you may need to restart the kernel to use updated packages.\n"
     ]
    }
   ],
   "source": [
    "pip install xgboost"
   ]
  },
  {
   "cell_type": "code",
   "execution_count": 159,
   "metadata": {},
   "outputs": [
    {
     "name": "stdout",
     "output_type": "stream",
     "text": [
      "Requirement already satisfied: pipreqs in c:\\users\\hp\\anaconda3\\lib\\site-packages (0.4.11)\n",
      "Requirement already satisfied: docopt in c:\\users\\hp\\anaconda3\\lib\\site-packages (from pipreqs) (0.6.2)\n",
      "Requirement already satisfied: yarg in c:\\users\\hp\\anaconda3\\lib\\site-packages (from pipreqs) (0.1.9)\n",
      "Requirement already satisfied: requests in c:\\users\\hp\\anaconda3\\lib\\site-packages (from yarg->pipreqs) (2.28.1)\n",
      "Requirement already satisfied: charset-normalizer<3,>=2 in c:\\users\\hp\\anaconda3\\lib\\site-packages (from requests->yarg->pipreqs) (2.1.1)\n",
      "Requirement already satisfied: idna<4,>=2.5 in c:\\users\\hp\\anaconda3\\lib\\site-packages (from requests->yarg->pipreqs) (2.8)\n",
      "Requirement already satisfied: urllib3<1.27,>=1.21.1 in c:\\users\\hp\\anaconda3\\lib\\site-packages (from requests->yarg->pipreqs) (1.25.8)\n",
      "Requirement already satisfied: certifi>=2017.4.17 in c:\\users\\hp\\anaconda3\\lib\\site-packages (from requests->yarg->pipreqs) (2019.11.28)\n",
      "Note: you may need to restart the kernel to use updated packages.\n"
     ]
    }
   ],
   "source": [
    "pip install pipreqs"
   ]
  },
  {
   "attachments": {},
   "cell_type": "markdown",
   "metadata": {},
   "source": [
    "# Read data"
   ]
  },
  {
   "cell_type": "code",
   "execution_count": 160,
   "metadata": {},
   "outputs": [],
   "source": [
    "df =pd.read_csv(r'E:\\Epsilon AI\\My_Projects\\Final Project\\Final\\Cars.csv')"
   ]
  },
  {
   "cell_type": "code",
   "execution_count": 161,
   "metadata": {},
   "outputs": [
    {
     "data": {
      "text/html": [
       "<div>\n",
       "<style scoped>\n",
       "    .dataframe tbody tr th:only-of-type {\n",
       "        vertical-align: middle;\n",
       "    }\n",
       "\n",
       "    .dataframe tbody tr th {\n",
       "        vertical-align: top;\n",
       "    }\n",
       "\n",
       "    .dataframe thead th {\n",
       "        text-align: right;\n",
       "    }\n",
       "</style>\n",
       "<table border=\"1\" class=\"dataframe\">\n",
       "  <thead>\n",
       "    <tr style=\"text-align: right;\">\n",
       "      <th></th>\n",
       "      <th>Unnamed: 0</th>\n",
       "      <th>Brand</th>\n",
       "      <th>Model</th>\n",
       "      <th>Body</th>\n",
       "      <th>Color</th>\n",
       "      <th>Year</th>\n",
       "      <th>Fuel</th>\n",
       "      <th>Kilometers</th>\n",
       "      <th>Engine</th>\n",
       "      <th>Transmission</th>\n",
       "      <th>Price</th>\n",
       "      <th>Gov</th>\n",
       "    </tr>\n",
       "  </thead>\n",
       "  <tbody>\n",
       "    <tr>\n",
       "      <th>0</th>\n",
       "      <td>5337</td>\n",
       "      <td>Hyundai</td>\n",
       "      <td>Accent</td>\n",
       "      <td>Sedan</td>\n",
       "      <td>Black</td>\n",
       "      <td>2007</td>\n",
       "      <td>Benzine</td>\n",
       "      <td>140000 to 159999</td>\n",
       "      <td>1600 CC</td>\n",
       "      <td>Automatic</td>\n",
       "      <td>140.0</td>\n",
       "      <td>Giza</td>\n",
       "    </tr>\n",
       "    <tr>\n",
       "      <th>1</th>\n",
       "      <td>5338</td>\n",
       "      <td>Hyundai</td>\n",
       "      <td>Accent</td>\n",
       "      <td>Sedan</td>\n",
       "      <td>Silver</td>\n",
       "      <td>2005</td>\n",
       "      <td>Benzine</td>\n",
       "      <td>180000 to 199999</td>\n",
       "      <td>1000 - 1300 CC</td>\n",
       "      <td>Manual</td>\n",
       "      <td>78.0</td>\n",
       "      <td>Qena</td>\n",
       "    </tr>\n",
       "    <tr>\n",
       "      <th>2</th>\n",
       "      <td>5339</td>\n",
       "      <td>Hyundai</td>\n",
       "      <td>Accent</td>\n",
       "      <td>Sedan</td>\n",
       "      <td>Gray</td>\n",
       "      <td>1999</td>\n",
       "      <td>Benzine</td>\n",
       "      <td>140000 to 159999</td>\n",
       "      <td>1400 - 1500 CC</td>\n",
       "      <td>Manual</td>\n",
       "      <td>70.0</td>\n",
       "      <td>Giza</td>\n",
       "    </tr>\n",
       "    <tr>\n",
       "      <th>3</th>\n",
       "      <td>5340</td>\n",
       "      <td>Hyundai</td>\n",
       "      <td>Accent</td>\n",
       "      <td>Sedan</td>\n",
       "      <td>Blue- Navy Blue</td>\n",
       "      <td>2009</td>\n",
       "      <td>Benzine</td>\n",
       "      <td>140000 to 159999</td>\n",
       "      <td>1600 CC</td>\n",
       "      <td>Automatic</td>\n",
       "      <td>150.0</td>\n",
       "      <td>Cairo</td>\n",
       "    </tr>\n",
       "    <tr>\n",
       "      <th>4</th>\n",
       "      <td>5341</td>\n",
       "      <td>Hyundai</td>\n",
       "      <td>Accent</td>\n",
       "      <td>Sedan</td>\n",
       "      <td>Silver</td>\n",
       "      <td>2000</td>\n",
       "      <td>Benzine</td>\n",
       "      <td>10000 to 19999</td>\n",
       "      <td>1000 - 1300 CC</td>\n",
       "      <td>Manual</td>\n",
       "      <td>75.0</td>\n",
       "      <td>Giza</td>\n",
       "    </tr>\n",
       "  </tbody>\n",
       "</table>\n",
       "</div>"
      ],
      "text/plain": [
       "   Unnamed: 0    Brand   Model   Body            Color  Year     Fuel  \\\n",
       "0        5337  Hyundai  Accent  Sedan            Black  2007  Benzine   \n",
       "1        5338  Hyundai  Accent  Sedan           Silver  2005  Benzine   \n",
       "2        5339  Hyundai  Accent  Sedan             Gray  1999  Benzine   \n",
       "3        5340  Hyundai  Accent  Sedan  Blue- Navy Blue  2009  Benzine   \n",
       "4        5341  Hyundai  Accent  Sedan           Silver  2000  Benzine   \n",
       "\n",
       "         Kilometers          Engine Transmission  Price    Gov  \n",
       "0  140000 to 159999         1600 CC    Automatic  140.0   Giza  \n",
       "1  180000 to 199999  1000 - 1300 CC       Manual   78.0   Qena  \n",
       "2  140000 to 159999  1400 - 1500 CC       Manual   70.0   Giza  \n",
       "3  140000 to 159999         1600 CC    Automatic  150.0  Cairo  \n",
       "4    10000 to 19999  1000 - 1300 CC       Manual   75.0   Giza  "
      ]
     },
     "execution_count": 161,
     "metadata": {},
     "output_type": "execute_result"
    }
   ],
   "source": [
    "df.head()"
   ]
  },
  {
   "cell_type": "code",
   "execution_count": 162,
   "metadata": {},
   "outputs": [
    {
     "data": {
      "text/plain": [
       "Index(['Unnamed: 0', 'Brand', 'Model', 'Body', 'Color', 'Year', 'Fuel',\n",
       "       'Kilometers', 'Engine', 'Transmission', 'Price', 'Gov'],\n",
       "      dtype='object')"
      ]
     },
     "execution_count": 162,
     "metadata": {},
     "output_type": "execute_result"
    }
   ],
   "source": [
    "df.columns"
   ]
  },
  {
   "attachments": {},
   "cell_type": "markdown",
   "metadata": {},
   "source": [
    "## explore Data & making preprocessing"
   ]
  },
  {
   "cell_type": "code",
   "execution_count": 163,
   "metadata": {},
   "outputs": [
    {
     "name": "stdout",
     "output_type": "stream",
     "text": [
      "<class 'pandas.core.frame.DataFrame'>\n",
      "RangeIndex: 14741 entries, 0 to 14740\n",
      "Data columns (total 12 columns):\n",
      " #   Column        Non-Null Count  Dtype  \n",
      "---  ------        --------------  -----  \n",
      " 0   Unnamed: 0    14741 non-null  int64  \n",
      " 1   Brand         14741 non-null  object \n",
      " 2   Model         14741 non-null  object \n",
      " 3   Body          14741 non-null  object \n",
      " 4   Color         14741 non-null  object \n",
      " 5   Year          14741 non-null  int64  \n",
      " 6   Fuel          14741 non-null  object \n",
      " 7   Kilometers    14741 non-null  object \n",
      " 8   Engine        14741 non-null  object \n",
      " 9   Transmission  14741 non-null  object \n",
      " 10  Price         14741 non-null  float64\n",
      " 11  Gov           14741 non-null  object \n",
      "dtypes: float64(1), int64(2), object(9)\n",
      "memory usage: 1.3+ MB\n"
     ]
    }
   ],
   "source": [
    "df.info()"
   ]
  },
  {
   "cell_type": "code",
   "execution_count": 164,
   "metadata": {},
   "outputs": [],
   "source": [
    "#df['Price'] = df['Price'].round(decimals=2)"
   ]
  },
  {
   "cell_type": "code",
   "execution_count": 165,
   "metadata": {},
   "outputs": [
    {
     "data": {
      "text/html": [
       "<div>\n",
       "<style scoped>\n",
       "    .dataframe tbody tr th:only-of-type {\n",
       "        vertical-align: middle;\n",
       "    }\n",
       "\n",
       "    .dataframe tbody tr th {\n",
       "        vertical-align: top;\n",
       "    }\n",
       "\n",
       "    .dataframe thead th {\n",
       "        text-align: right;\n",
       "    }\n",
       "</style>\n",
       "<table border=\"1\" class=\"dataframe\">\n",
       "  <thead>\n",
       "    <tr style=\"text-align: right;\">\n",
       "      <th></th>\n",
       "      <th>Unnamed: 0</th>\n",
       "      <th>Year</th>\n",
       "      <th>Price</th>\n",
       "    </tr>\n",
       "  </thead>\n",
       "  <tbody>\n",
       "    <tr>\n",
       "      <th>count</th>\n",
       "      <td>14741.000000</td>\n",
       "      <td>14741.000000</td>\n",
       "      <td>14741.000000</td>\n",
       "    </tr>\n",
       "    <tr>\n",
       "      <th>mean</th>\n",
       "      <td>8934.846754</td>\n",
       "      <td>2005.456821</td>\n",
       "      <td>116.584987</td>\n",
       "    </tr>\n",
       "    <tr>\n",
       "      <th>std</th>\n",
       "      <td>4922.065495</td>\n",
       "      <td>12.655566</td>\n",
       "      <td>82.192718</td>\n",
       "    </tr>\n",
       "    <tr>\n",
       "      <th>min</th>\n",
       "      <td>812.000000</td>\n",
       "      <td>1970.000000</td>\n",
       "      <td>3.000000</td>\n",
       "    </tr>\n",
       "    <tr>\n",
       "      <th>25%</th>\n",
       "      <td>4497.000000</td>\n",
       "      <td>1998.000000</td>\n",
       "      <td>43.700000</td>\n",
       "    </tr>\n",
       "    <tr>\n",
       "      <th>50%</th>\n",
       "      <td>8182.000000</td>\n",
       "      <td>2010.000000</td>\n",
       "      <td>110.000000</td>\n",
       "    </tr>\n",
       "    <tr>\n",
       "      <th>75%</th>\n",
       "      <td>13373.000000</td>\n",
       "      <td>2015.000000</td>\n",
       "      <td>161.000000</td>\n",
       "    </tr>\n",
       "    <tr>\n",
       "      <th>max</th>\n",
       "      <td>17058.000000</td>\n",
       "      <td>2022.000000</td>\n",
       "      <td>471.500000</td>\n",
       "    </tr>\n",
       "  </tbody>\n",
       "</table>\n",
       "</div>"
      ],
      "text/plain": [
       "         Unnamed: 0          Year         Price\n",
       "count  14741.000000  14741.000000  14741.000000\n",
       "mean    8934.846754   2005.456821    116.584987\n",
       "std     4922.065495     12.655566     82.192718\n",
       "min      812.000000   1970.000000      3.000000\n",
       "25%     4497.000000   1998.000000     43.700000\n",
       "50%     8182.000000   2010.000000    110.000000\n",
       "75%    13373.000000   2015.000000    161.000000\n",
       "max    17058.000000   2022.000000    471.500000"
      ]
     },
     "execution_count": 165,
     "metadata": {},
     "output_type": "execute_result"
    }
   ],
   "source": [
    "df.describe()"
   ]
  },
  {
   "cell_type": "code",
   "execution_count": 166,
   "metadata": {},
   "outputs": [],
   "source": [
    "df.drop('Unnamed: 0' , axis= 1, inplace= True)"
   ]
  },
  {
   "cell_type": "code",
   "execution_count": 167,
   "metadata": {},
   "outputs": [
    {
     "data": {
      "text/html": [
       "<div>\n",
       "<style scoped>\n",
       "    .dataframe tbody tr th:only-of-type {\n",
       "        vertical-align: middle;\n",
       "    }\n",
       "\n",
       "    .dataframe tbody tr th {\n",
       "        vertical-align: top;\n",
       "    }\n",
       "\n",
       "    .dataframe thead th {\n",
       "        text-align: right;\n",
       "    }\n",
       "</style>\n",
       "<table border=\"1\" class=\"dataframe\">\n",
       "  <thead>\n",
       "    <tr style=\"text-align: right;\">\n",
       "      <th></th>\n",
       "      <th>Brand</th>\n",
       "      <th>Model</th>\n",
       "      <th>Body</th>\n",
       "      <th>Color</th>\n",
       "      <th>Year</th>\n",
       "      <th>Fuel</th>\n",
       "      <th>Kilometers</th>\n",
       "      <th>Engine</th>\n",
       "      <th>Transmission</th>\n",
       "      <th>Price</th>\n",
       "      <th>Gov</th>\n",
       "    </tr>\n",
       "  </thead>\n",
       "  <tbody>\n",
       "    <tr>\n",
       "      <th>174</th>\n",
       "      <td>Hyundai</td>\n",
       "      <td>Accent</td>\n",
       "      <td>Sedan</td>\n",
       "      <td>Other Color</td>\n",
       "      <td>2010</td>\n",
       "      <td>Benzine</td>\n",
       "      <td>0 to 9999</td>\n",
       "      <td>1600 CC</td>\n",
       "      <td>Manual</td>\n",
       "      <td>10.0</td>\n",
       "      <td>Qena</td>\n",
       "    </tr>\n",
       "    <tr>\n",
       "      <th>257</th>\n",
       "      <td>Hyundai</td>\n",
       "      <td>Accent</td>\n",
       "      <td>Sedan</td>\n",
       "      <td>Other Color</td>\n",
       "      <td>2000</td>\n",
       "      <td>Benzine</td>\n",
       "      <td>0 to 9999</td>\n",
       "      <td>1400 - 1500 CC</td>\n",
       "      <td>Manual</td>\n",
       "      <td>7.0</td>\n",
       "      <td>Fayoum</td>\n",
       "    </tr>\n",
       "    <tr>\n",
       "      <th>698</th>\n",
       "      <td>Hyundai</td>\n",
       "      <td>Avante</td>\n",
       "      <td>Sedan</td>\n",
       "      <td>Blue- Navy Blue</td>\n",
       "      <td>2021</td>\n",
       "      <td>Benzine</td>\n",
       "      <td>10000 to 19999</td>\n",
       "      <td>1600 CC</td>\n",
       "      <td>Automatic</td>\n",
       "      <td>4.4</td>\n",
       "      <td>Fayoum</td>\n",
       "    </tr>\n",
       "    <tr>\n",
       "      <th>890</th>\n",
       "      <td>Hyundai</td>\n",
       "      <td>Elantra</td>\n",
       "      <td>Sedan</td>\n",
       "      <td>Black</td>\n",
       "      <td>2006</td>\n",
       "      <td>Benzine</td>\n",
       "      <td>More than 200000</td>\n",
       "      <td>1600 CC</td>\n",
       "      <td>Automatic</td>\n",
       "      <td>3.0</td>\n",
       "      <td>Beni Suef</td>\n",
       "    </tr>\n",
       "    <tr>\n",
       "      <th>952</th>\n",
       "      <td>Hyundai</td>\n",
       "      <td>Elantra</td>\n",
       "      <td>Sedan</td>\n",
       "      <td>Black</td>\n",
       "      <td>2021</td>\n",
       "      <td>Benzine</td>\n",
       "      <td>50000 to 59999</td>\n",
       "      <td>1600 CC</td>\n",
       "      <td>Automatic</td>\n",
       "      <td>3.0</td>\n",
       "      <td>Cairo</td>\n",
       "    </tr>\n",
       "    <tr>\n",
       "      <th>...</th>\n",
       "      <td>...</td>\n",
       "      <td>...</td>\n",
       "      <td>...</td>\n",
       "      <td>...</td>\n",
       "      <td>...</td>\n",
       "      <td>...</td>\n",
       "      <td>...</td>\n",
       "      <td>...</td>\n",
       "      <td>...</td>\n",
       "      <td>...</td>\n",
       "      <td>...</td>\n",
       "    </tr>\n",
       "    <tr>\n",
       "      <th>13616</th>\n",
       "      <td>Fiat</td>\n",
       "      <td>131</td>\n",
       "      <td>Sedan</td>\n",
       "      <td>Yellow</td>\n",
       "      <td>1982</td>\n",
       "      <td>Benzine</td>\n",
       "      <td>180000 to 199999</td>\n",
       "      <td>1600 CC</td>\n",
       "      <td>Manual</td>\n",
       "      <td>17.2</td>\n",
       "      <td>Sharqia</td>\n",
       "    </tr>\n",
       "    <tr>\n",
       "      <th>13638</th>\n",
       "      <td>Fiat</td>\n",
       "      <td>131</td>\n",
       "      <td>Sedan</td>\n",
       "      <td>Brown</td>\n",
       "      <td>1979</td>\n",
       "      <td>Benzine</td>\n",
       "      <td>10000 to 19999</td>\n",
       "      <td>1600 CC</td>\n",
       "      <td>Manual</td>\n",
       "      <td>18.4</td>\n",
       "      <td>Alexandria</td>\n",
       "    </tr>\n",
       "    <tr>\n",
       "      <th>13641</th>\n",
       "      <td>Fiat</td>\n",
       "      <td>131</td>\n",
       "      <td>Sedan</td>\n",
       "      <td>Yellow</td>\n",
       "      <td>1985</td>\n",
       "      <td>Benzine</td>\n",
       "      <td>0 to 9999</td>\n",
       "      <td>1600 CC</td>\n",
       "      <td>Manual</td>\n",
       "      <td>19.6</td>\n",
       "      <td>Giza</td>\n",
       "    </tr>\n",
       "    <tr>\n",
       "      <th>13655</th>\n",
       "      <td>Fiat</td>\n",
       "      <td>131</td>\n",
       "      <td>Sedan</td>\n",
       "      <td>Gray</td>\n",
       "      <td>1979</td>\n",
       "      <td>Benzine</td>\n",
       "      <td>40000 to 49999</td>\n",
       "      <td>1600 CC</td>\n",
       "      <td>Manual</td>\n",
       "      <td>17.2</td>\n",
       "      <td>Qalyubia</td>\n",
       "    </tr>\n",
       "    <tr>\n",
       "      <th>13710</th>\n",
       "      <td>Fiat</td>\n",
       "      <td>131</td>\n",
       "      <td>Sedan</td>\n",
       "      <td>Blue- Navy Blue</td>\n",
       "      <td>1978</td>\n",
       "      <td>Benzine</td>\n",
       "      <td>10000 to 19999</td>\n",
       "      <td>1600 CC</td>\n",
       "      <td>Manual</td>\n",
       "      <td>18.4</td>\n",
       "      <td>Sharqia</td>\n",
       "    </tr>\n",
       "  </tbody>\n",
       "</table>\n",
       "<p>949 rows × 11 columns</p>\n",
       "</div>"
      ],
      "text/plain": [
       "         Brand    Model   Body            Color  Year     Fuel  \\\n",
       "174    Hyundai   Accent  Sedan      Other Color  2010  Benzine   \n",
       "257    Hyundai   Accent  Sedan      Other Color  2000  Benzine   \n",
       "698    Hyundai   Avante  Sedan  Blue- Navy Blue  2021  Benzine   \n",
       "890    Hyundai  Elantra  Sedan            Black  2006  Benzine   \n",
       "952    Hyundai  Elantra  Sedan            Black  2021  Benzine   \n",
       "...        ...      ...    ...              ...   ...      ...   \n",
       "13616     Fiat      131  Sedan           Yellow  1982  Benzine   \n",
       "13638     Fiat      131  Sedan            Brown  1979  Benzine   \n",
       "13641     Fiat      131  Sedan           Yellow  1985  Benzine   \n",
       "13655     Fiat      131  Sedan             Gray  1979  Benzine   \n",
       "13710     Fiat      131  Sedan  Blue- Navy Blue  1978  Benzine   \n",
       "\n",
       "             Kilometers          Engine Transmission  Price         Gov  \n",
       "174           0 to 9999         1600 CC       Manual   10.0        Qena  \n",
       "257           0 to 9999  1400 - 1500 CC       Manual    7.0      Fayoum  \n",
       "698      10000 to 19999         1600 CC    Automatic    4.4      Fayoum  \n",
       "890    More than 200000         1600 CC    Automatic    3.0   Beni Suef  \n",
       "952      50000 to 59999         1600 CC    Automatic    3.0       Cairo  \n",
       "...                 ...             ...          ...    ...         ...  \n",
       "13616  180000 to 199999         1600 CC       Manual   17.2     Sharqia  \n",
       "13638    10000 to 19999         1600 CC       Manual   18.4  Alexandria  \n",
       "13641         0 to 9999         1600 CC       Manual   19.6        Giza  \n",
       "13655    40000 to 49999         1600 CC       Manual   17.2    Qalyubia  \n",
       "13710    10000 to 19999         1600 CC       Manual   18.4     Sharqia  \n",
       "\n",
       "[949 rows x 11 columns]"
      ]
     },
     "execution_count": 167,
     "metadata": {},
     "output_type": "execute_result"
    }
   ],
   "source": [
    "df[df['Price']< 20]"
   ]
  },
  {
   "cell_type": "code",
   "execution_count": 168,
   "metadata": {},
   "outputs": [
    {
     "data": {
      "text/html": [
       "<div>\n",
       "<style scoped>\n",
       "    .dataframe tbody tr th:only-of-type {\n",
       "        vertical-align: middle;\n",
       "    }\n",
       "\n",
       "    .dataframe tbody tr th {\n",
       "        vertical-align: top;\n",
       "    }\n",
       "\n",
       "    .dataframe thead th {\n",
       "        text-align: right;\n",
       "    }\n",
       "</style>\n",
       "<table border=\"1\" class=\"dataframe\">\n",
       "  <thead>\n",
       "    <tr style=\"text-align: right;\">\n",
       "      <th></th>\n",
       "      <th>Brand</th>\n",
       "      <th>Model</th>\n",
       "      <th>Body</th>\n",
       "      <th>Color</th>\n",
       "      <th>Year</th>\n",
       "      <th>Fuel</th>\n",
       "      <th>Kilometers</th>\n",
       "      <th>Engine</th>\n",
       "      <th>Transmission</th>\n",
       "      <th>Price</th>\n",
       "      <th>Gov</th>\n",
       "    </tr>\n",
       "  </thead>\n",
       "  <tbody>\n",
       "    <tr>\n",
       "      <th>174</th>\n",
       "      <td>Hyundai</td>\n",
       "      <td>Accent</td>\n",
       "      <td>Sedan</td>\n",
       "      <td>Other Color</td>\n",
       "      <td>2010</td>\n",
       "      <td>Benzine</td>\n",
       "      <td>0 to 9999</td>\n",
       "      <td>1600 CC</td>\n",
       "      <td>Manual</td>\n",
       "      <td>10.0</td>\n",
       "      <td>Qena</td>\n",
       "    </tr>\n",
       "    <tr>\n",
       "      <th>224</th>\n",
       "      <td>Hyundai</td>\n",
       "      <td>Accent</td>\n",
       "      <td>Sedan</td>\n",
       "      <td>Other Color</td>\n",
       "      <td>2021</td>\n",
       "      <td>Benzine</td>\n",
       "      <td>0 to 9999</td>\n",
       "      <td>1600 CC</td>\n",
       "      <td>Automatic</td>\n",
       "      <td>29.5</td>\n",
       "      <td>Giza</td>\n",
       "    </tr>\n",
       "    <tr>\n",
       "      <th>305</th>\n",
       "      <td>Hyundai</td>\n",
       "      <td>Accent</td>\n",
       "      <td>Sedan</td>\n",
       "      <td>Blue- Navy Blue</td>\n",
       "      <td>2007</td>\n",
       "      <td>Benzine</td>\n",
       "      <td>More than 200000</td>\n",
       "      <td>1400 - 1500 CC</td>\n",
       "      <td>Manual</td>\n",
       "      <td>55.0</td>\n",
       "      <td>Giza</td>\n",
       "    </tr>\n",
       "    <tr>\n",
       "      <th>420</th>\n",
       "      <td>Hyundai</td>\n",
       "      <td>Accent</td>\n",
       "      <td>Sedan</td>\n",
       "      <td>Gold</td>\n",
       "      <td>2010</td>\n",
       "      <td>Benzine</td>\n",
       "      <td>140000 to 159999</td>\n",
       "      <td>1600 CC</td>\n",
       "      <td>Automatic</td>\n",
       "      <td>58.0</td>\n",
       "      <td>Giza</td>\n",
       "    </tr>\n",
       "    <tr>\n",
       "      <th>445</th>\n",
       "      <td>Hyundai</td>\n",
       "      <td>Accent</td>\n",
       "      <td>Sedan</td>\n",
       "      <td>Red</td>\n",
       "      <td>2006</td>\n",
       "      <td>Natural Gas</td>\n",
       "      <td>0 to 9999</td>\n",
       "      <td>1400 - 1500 CC</td>\n",
       "      <td>Manual</td>\n",
       "      <td>50.0</td>\n",
       "      <td>Ismailia</td>\n",
       "    </tr>\n",
       "    <tr>\n",
       "      <th>...</th>\n",
       "      <td>...</td>\n",
       "      <td>...</td>\n",
       "      <td>...</td>\n",
       "      <td>...</td>\n",
       "      <td>...</td>\n",
       "      <td>...</td>\n",
       "      <td>...</td>\n",
       "      <td>...</td>\n",
       "      <td>...</td>\n",
       "      <td>...</td>\n",
       "      <td>...</td>\n",
       "    </tr>\n",
       "    <tr>\n",
       "      <th>14406</th>\n",
       "      <td>Fiat</td>\n",
       "      <td>Shahin</td>\n",
       "      <td>Sedan</td>\n",
       "      <td>Red</td>\n",
       "      <td>2008</td>\n",
       "      <td>Benzine</td>\n",
       "      <td>50000 to 59999</td>\n",
       "      <td>1400 - 1500 CC</td>\n",
       "      <td>Manual</td>\n",
       "      <td>47.1</td>\n",
       "      <td>Dakahlia</td>\n",
       "    </tr>\n",
       "    <tr>\n",
       "      <th>14408</th>\n",
       "      <td>Fiat</td>\n",
       "      <td>Shahin</td>\n",
       "      <td>Sedan</td>\n",
       "      <td>Burgundy</td>\n",
       "      <td>2008</td>\n",
       "      <td>Benzine</td>\n",
       "      <td>More than 200000</td>\n",
       "      <td>1400 - 1500 CC</td>\n",
       "      <td>Manual</td>\n",
       "      <td>51.8</td>\n",
       "      <td>Gharbia</td>\n",
       "    </tr>\n",
       "    <tr>\n",
       "      <th>14413</th>\n",
       "      <td>Fiat</td>\n",
       "      <td>Shahin</td>\n",
       "      <td>Sedan</td>\n",
       "      <td>Blue- Navy Blue</td>\n",
       "      <td>2011</td>\n",
       "      <td>Benzine</td>\n",
       "      <td>120000 to 139999</td>\n",
       "      <td>1400 - 1500 CC</td>\n",
       "      <td>Manual</td>\n",
       "      <td>59.8</td>\n",
       "      <td>Suez</td>\n",
       "    </tr>\n",
       "    <tr>\n",
       "      <th>14415</th>\n",
       "      <td>Fiat</td>\n",
       "      <td>Shahin</td>\n",
       "      <td>Sedan</td>\n",
       "      <td>Green</td>\n",
       "      <td>2006</td>\n",
       "      <td>Benzine</td>\n",
       "      <td>160000 to 179999</td>\n",
       "      <td>1400 - 1500 CC</td>\n",
       "      <td>Manual</td>\n",
       "      <td>52.9</td>\n",
       "      <td>Giza</td>\n",
       "    </tr>\n",
       "    <tr>\n",
       "      <th>14421</th>\n",
       "      <td>Fiat</td>\n",
       "      <td>Shahin</td>\n",
       "      <td>Sedan</td>\n",
       "      <td>Green</td>\n",
       "      <td>2007</td>\n",
       "      <td>Benzine</td>\n",
       "      <td>More than 200000</td>\n",
       "      <td>1400 - 1500 CC</td>\n",
       "      <td>Manual</td>\n",
       "      <td>48.3</td>\n",
       "      <td>Cairo</td>\n",
       "    </tr>\n",
       "  </tbody>\n",
       "</table>\n",
       "<p>287 rows × 11 columns</p>\n",
       "</div>"
      ],
      "text/plain": [
       "         Brand   Model   Body            Color  Year         Fuel  \\\n",
       "174    Hyundai  Accent  Sedan      Other Color  2010      Benzine   \n",
       "224    Hyundai  Accent  Sedan      Other Color  2021      Benzine   \n",
       "305    Hyundai  Accent  Sedan  Blue- Navy Blue  2007      Benzine   \n",
       "420    Hyundai  Accent  Sedan             Gold  2010      Benzine   \n",
       "445    Hyundai  Accent  Sedan              Red  2006  Natural Gas   \n",
       "...        ...     ...    ...              ...   ...          ...   \n",
       "14406     Fiat  Shahin  Sedan              Red  2008      Benzine   \n",
       "14408     Fiat  Shahin  Sedan         Burgundy  2008      Benzine   \n",
       "14413     Fiat  Shahin  Sedan  Blue- Navy Blue  2011      Benzine   \n",
       "14415     Fiat  Shahin  Sedan            Green  2006      Benzine   \n",
       "14421     Fiat  Shahin  Sedan            Green  2007      Benzine   \n",
       "\n",
       "             Kilometers          Engine Transmission  Price       Gov  \n",
       "174           0 to 9999         1600 CC       Manual   10.0      Qena  \n",
       "224           0 to 9999         1600 CC    Automatic   29.5      Giza  \n",
       "305    More than 200000  1400 - 1500 CC       Manual   55.0      Giza  \n",
       "420    140000 to 159999         1600 CC    Automatic   58.0      Giza  \n",
       "445           0 to 9999  1400 - 1500 CC       Manual   50.0  Ismailia  \n",
       "...                 ...             ...          ...    ...       ...  \n",
       "14406    50000 to 59999  1400 - 1500 CC       Manual   47.1  Dakahlia  \n",
       "14408  More than 200000  1400 - 1500 CC       Manual   51.8   Gharbia  \n",
       "14413  120000 to 139999  1400 - 1500 CC       Manual   59.8      Suez  \n",
       "14415  160000 to 179999  1400 - 1500 CC       Manual   52.9      Giza  \n",
       "14421  More than 200000  1400 - 1500 CC       Manual   48.3     Cairo  \n",
       "\n",
       "[287 rows x 11 columns]"
      ]
     },
     "execution_count": 168,
     "metadata": {},
     "output_type": "execute_result"
    }
   ],
   "source": [
    "df[(df['Price'] < 60) & (df['Year'] > 2005) ]"
   ]
  },
  {
   "cell_type": "code",
   "execution_count": 169,
   "metadata": {},
   "outputs": [
    {
     "data": {
      "text/html": [
       "<div>\n",
       "<style scoped>\n",
       "    .dataframe tbody tr th:only-of-type {\n",
       "        vertical-align: middle;\n",
       "    }\n",
       "\n",
       "    .dataframe tbody tr th {\n",
       "        vertical-align: top;\n",
       "    }\n",
       "\n",
       "    .dataframe thead th {\n",
       "        text-align: right;\n",
       "    }\n",
       "</style>\n",
       "<table border=\"1\" class=\"dataframe\">\n",
       "  <thead>\n",
       "    <tr style=\"text-align: right;\">\n",
       "      <th></th>\n",
       "      <th>Brand</th>\n",
       "      <th>Model</th>\n",
       "      <th>Body</th>\n",
       "      <th>Color</th>\n",
       "      <th>Year</th>\n",
       "      <th>Fuel</th>\n",
       "      <th>Kilometers</th>\n",
       "      <th>Engine</th>\n",
       "      <th>Transmission</th>\n",
       "      <th>Price</th>\n",
       "      <th>Gov</th>\n",
       "    </tr>\n",
       "  </thead>\n",
       "  <tbody>\n",
       "    <tr>\n",
       "      <th>174</th>\n",
       "      <td>Hyundai</td>\n",
       "      <td>Accent</td>\n",
       "      <td>Sedan</td>\n",
       "      <td>Other Color</td>\n",
       "      <td>2010</td>\n",
       "      <td>Benzine</td>\n",
       "      <td>0 to 9999</td>\n",
       "      <td>1600 CC</td>\n",
       "      <td>Manual</td>\n",
       "      <td>10.0</td>\n",
       "      <td>Qena</td>\n",
       "    </tr>\n",
       "    <tr>\n",
       "      <th>192</th>\n",
       "      <td>Hyundai</td>\n",
       "      <td>Accent</td>\n",
       "      <td>Sedan</td>\n",
       "      <td>White</td>\n",
       "      <td>1998</td>\n",
       "      <td>Benzine</td>\n",
       "      <td>More than 200000</td>\n",
       "      <td>1400 - 1500 CC</td>\n",
       "      <td>Manual</td>\n",
       "      <td>25.0</td>\n",
       "      <td>Sharqia</td>\n",
       "    </tr>\n",
       "    <tr>\n",
       "      <th>224</th>\n",
       "      <td>Hyundai</td>\n",
       "      <td>Accent</td>\n",
       "      <td>Sedan</td>\n",
       "      <td>Other Color</td>\n",
       "      <td>2021</td>\n",
       "      <td>Benzine</td>\n",
       "      <td>0 to 9999</td>\n",
       "      <td>1600 CC</td>\n",
       "      <td>Automatic</td>\n",
       "      <td>29.5</td>\n",
       "      <td>Giza</td>\n",
       "    </tr>\n",
       "    <tr>\n",
       "      <th>257</th>\n",
       "      <td>Hyundai</td>\n",
       "      <td>Accent</td>\n",
       "      <td>Sedan</td>\n",
       "      <td>Other Color</td>\n",
       "      <td>2000</td>\n",
       "      <td>Benzine</td>\n",
       "      <td>0 to 9999</td>\n",
       "      <td>1400 - 1500 CC</td>\n",
       "      <td>Manual</td>\n",
       "      <td>7.0</td>\n",
       "      <td>Fayoum</td>\n",
       "    </tr>\n",
       "    <tr>\n",
       "      <th>698</th>\n",
       "      <td>Hyundai</td>\n",
       "      <td>Avante</td>\n",
       "      <td>Sedan</td>\n",
       "      <td>Blue- Navy Blue</td>\n",
       "      <td>2021</td>\n",
       "      <td>Benzine</td>\n",
       "      <td>10000 to 19999</td>\n",
       "      <td>1600 CC</td>\n",
       "      <td>Automatic</td>\n",
       "      <td>4.4</td>\n",
       "      <td>Fayoum</td>\n",
       "    </tr>\n",
       "    <tr>\n",
       "      <th>...</th>\n",
       "      <td>...</td>\n",
       "      <td>...</td>\n",
       "      <td>...</td>\n",
       "      <td>...</td>\n",
       "      <td>...</td>\n",
       "      <td>...</td>\n",
       "      <td>...</td>\n",
       "      <td>...</td>\n",
       "      <td>...</td>\n",
       "      <td>...</td>\n",
       "      <td>...</td>\n",
       "    </tr>\n",
       "    <tr>\n",
       "      <th>14606</th>\n",
       "      <td>Fiat</td>\n",
       "      <td>Uno</td>\n",
       "      <td>Hatchback</td>\n",
       "      <td>Green</td>\n",
       "      <td>1997</td>\n",
       "      <td>Benzine</td>\n",
       "      <td>More than 200000</td>\n",
       "      <td>1000 - 1300 CC</td>\n",
       "      <td>Manual</td>\n",
       "      <td>26.4</td>\n",
       "      <td>Cairo</td>\n",
       "    </tr>\n",
       "    <tr>\n",
       "      <th>14614</th>\n",
       "      <td>Fiat</td>\n",
       "      <td>Uno</td>\n",
       "      <td>Hatchback</td>\n",
       "      <td>Blue- Navy Blue</td>\n",
       "      <td>1996</td>\n",
       "      <td>Benzine</td>\n",
       "      <td>180000 to 199999</td>\n",
       "      <td>1000 - 1300 CC</td>\n",
       "      <td>Manual</td>\n",
       "      <td>29.9</td>\n",
       "      <td>Alexandria</td>\n",
       "    </tr>\n",
       "    <tr>\n",
       "      <th>14622</th>\n",
       "      <td>Fiat</td>\n",
       "      <td>Uno</td>\n",
       "      <td>Hatchback</td>\n",
       "      <td>Blue- Navy Blue</td>\n",
       "      <td>1996</td>\n",
       "      <td>Benzine</td>\n",
       "      <td>100000 to 119999</td>\n",
       "      <td>1000 - 1300 CC</td>\n",
       "      <td>Manual</td>\n",
       "      <td>28.8</td>\n",
       "      <td>Giza</td>\n",
       "    </tr>\n",
       "    <tr>\n",
       "      <th>14629</th>\n",
       "      <td>Fiat</td>\n",
       "      <td>Uno</td>\n",
       "      <td>Hatchback</td>\n",
       "      <td>White</td>\n",
       "      <td>1996</td>\n",
       "      <td>Benzine</td>\n",
       "      <td>0 to 9999</td>\n",
       "      <td>1000 - 1300 CC</td>\n",
       "      <td>Manual</td>\n",
       "      <td>26.4</td>\n",
       "      <td>Port Said</td>\n",
       "    </tr>\n",
       "    <tr>\n",
       "      <th>14725</th>\n",
       "      <td>Fiat</td>\n",
       "      <td>Uno</td>\n",
       "      <td>Hatchback</td>\n",
       "      <td>Silver</td>\n",
       "      <td>1989</td>\n",
       "      <td>Benzine</td>\n",
       "      <td>70000 to 79999</td>\n",
       "      <td>1000 - 1300 CC</td>\n",
       "      <td>Manual</td>\n",
       "      <td>28.8</td>\n",
       "      <td>Beni Suef</td>\n",
       "    </tr>\n",
       "  </tbody>\n",
       "</table>\n",
       "<p>2767 rows × 11 columns</p>\n",
       "</div>"
      ],
      "text/plain": [
       "         Brand   Model       Body            Color  Year     Fuel  \\\n",
       "174    Hyundai  Accent      Sedan      Other Color  2010  Benzine   \n",
       "192    Hyundai  Accent      Sedan            White  1998  Benzine   \n",
       "224    Hyundai  Accent      Sedan      Other Color  2021  Benzine   \n",
       "257    Hyundai  Accent      Sedan      Other Color  2000  Benzine   \n",
       "698    Hyundai  Avante      Sedan  Blue- Navy Blue  2021  Benzine   \n",
       "...        ...     ...        ...              ...   ...      ...   \n",
       "14606     Fiat     Uno  Hatchback            Green  1997  Benzine   \n",
       "14614     Fiat     Uno  Hatchback  Blue- Navy Blue  1996  Benzine   \n",
       "14622     Fiat     Uno  Hatchback  Blue- Navy Blue  1996  Benzine   \n",
       "14629     Fiat     Uno  Hatchback            White  1996  Benzine   \n",
       "14725     Fiat     Uno  Hatchback           Silver  1989  Benzine   \n",
       "\n",
       "             Kilometers          Engine Transmission  Price         Gov  \n",
       "174           0 to 9999         1600 CC       Manual   10.0        Qena  \n",
       "192    More than 200000  1400 - 1500 CC       Manual   25.0     Sharqia  \n",
       "224           0 to 9999         1600 CC    Automatic   29.5        Giza  \n",
       "257           0 to 9999  1400 - 1500 CC       Manual    7.0      Fayoum  \n",
       "698      10000 to 19999         1600 CC    Automatic    4.4      Fayoum  \n",
       "...                 ...             ...          ...    ...         ...  \n",
       "14606  More than 200000  1000 - 1300 CC       Manual   26.4       Cairo  \n",
       "14614  180000 to 199999  1000 - 1300 CC       Manual   29.9  Alexandria  \n",
       "14622  100000 to 119999  1000 - 1300 CC       Manual   28.8        Giza  \n",
       "14629         0 to 9999  1000 - 1300 CC       Manual   26.4   Port Said  \n",
       "14725    70000 to 79999  1000 - 1300 CC       Manual   28.8   Beni Suef  \n",
       "\n",
       "[2767 rows x 11 columns]"
      ]
     },
     "execution_count": 169,
     "metadata": {},
     "output_type": "execute_result"
    }
   ],
   "source": [
    "df[(df['Price'] < 30) | (df['Year'] < 1985)]"
   ]
  },
  {
   "cell_type": "code",
   "execution_count": 170,
   "metadata": {},
   "outputs": [],
   "source": [
    "df.drop(df[(df['Price'] < 30)].index , axis= 0, inplace = True)  # |  df['Year'] < 1990)]"
   ]
  },
  {
   "cell_type": "code",
   "execution_count": 171,
   "metadata": {},
   "outputs": [],
   "source": [
    "df.drop(df[(df['Price'] < 60) & (df['Year'] > 2005) ].index ,axis= 0, inplace = True)"
   ]
  },
  {
   "cell_type": "code",
   "execution_count": 172,
   "metadata": {},
   "outputs": [
    {
     "data": {
      "text/plain": [
       "(12007, 11)"
      ]
     },
     "execution_count": 172,
     "metadata": {},
     "output_type": "execute_result"
    }
   ],
   "source": [
    "df.shape"
   ]
  },
  {
   "cell_type": "code",
   "execution_count": 173,
   "metadata": {},
   "outputs": [
    {
     "data": {
      "text/plain": [
       "Verna      1880\n",
       "Elantra    1505\n",
       "Lanos      1327\n",
       "Accent     1255\n",
       "Optra      1252\n",
       "Aveo        994\n",
       "Shahin      900\n",
       "Cruze       428\n",
       "128         350\n",
       "Uno         331\n",
       "Avante      280\n",
       "Tipo        274\n",
       "Punto       270\n",
       "Matrix      268\n",
       "131         261\n",
       "Tucson      182\n",
       "I10         166\n",
       "Excel        84\n",
       "Name: Model, dtype: int64"
      ]
     },
     "execution_count": 173,
     "metadata": {},
     "output_type": "execute_result"
    }
   ],
   "source": [
    "df['Model'].value_counts()"
   ]
  },
  {
   "cell_type": "code",
   "execution_count": 174,
   "metadata": {},
   "outputs": [
    {
     "name": "stdout",
     "output_type": "stream",
     "text": [
      "<class 'pandas.core.frame.DataFrame'>\n",
      "Int64Index: 12007 entries, 0 to 14740\n",
      "Data columns (total 11 columns):\n",
      " #   Column        Non-Null Count  Dtype  \n",
      "---  ------        --------------  -----  \n",
      " 0   Brand         12007 non-null  object \n",
      " 1   Model         12007 non-null  object \n",
      " 2   Body          12007 non-null  object \n",
      " 3   Color         12007 non-null  object \n",
      " 4   Year          12007 non-null  int64  \n",
      " 5   Fuel          12007 non-null  object \n",
      " 6   Kilometers    12007 non-null  object \n",
      " 7   Engine        12007 non-null  object \n",
      " 8   Transmission  12007 non-null  object \n",
      " 9   Price         12007 non-null  float64\n",
      " 10  Gov           12007 non-null  object \n",
      "dtypes: float64(1), int64(1), object(9)\n",
      "memory usage: 1.1+ MB\n"
     ]
    }
   ],
   "source": [
    "df.info()"
   ]
  },
  {
   "cell_type": "code",
   "execution_count": 175,
   "metadata": {},
   "outputs": [
    {
     "data": {
      "text/plain": [
       "Brand           0\n",
       "Model           0\n",
       "Body            0\n",
       "Color           0\n",
       "Year            0\n",
       "Fuel            0\n",
       "Kilometers      0\n",
       "Engine          0\n",
       "Transmission    0\n",
       "Price           0\n",
       "Gov             0\n",
       "dtype: int64"
      ]
     },
     "execution_count": 175,
     "metadata": {},
     "output_type": "execute_result"
    }
   ],
   "source": [
    "df.isnull().sum()"
   ]
  },
  {
   "cell_type": "code",
   "execution_count": 176,
   "metadata": {},
   "outputs": [
    {
     "data": {
      "text/plain": [
       "Brand           0.0\n",
       "Model           0.0\n",
       "Body            0.0\n",
       "Color           0.0\n",
       "Year            0.0\n",
       "Fuel            0.0\n",
       "Kilometers      0.0\n",
       "Engine          0.0\n",
       "Transmission    0.0\n",
       "Price           0.0\n",
       "Gov             0.0\n",
       "dtype: float64"
      ]
     },
     "execution_count": 176,
     "metadata": {},
     "output_type": "execute_result"
    }
   ],
   "source": [
    "df.isnull().mean()*100"
   ]
  },
  {
   "cell_type": "code",
   "execution_count": 177,
   "metadata": {},
   "outputs": [
    {
     "data": {
      "text/plain": [
       "array(['Automatic', 'Manual'], dtype=object)"
      ]
     },
     "execution_count": 177,
     "metadata": {},
     "output_type": "execute_result"
    }
   ],
   "source": [
    "df['Transmission'].unique()"
   ]
  },
  {
   "cell_type": "code",
   "execution_count": 178,
   "metadata": {},
   "outputs": [
    {
     "data": {
      "text/plain": [
       "array(['Benzine', 'Natural Gas'], dtype=object)"
      ]
     },
     "execution_count": 178,
     "metadata": {},
     "output_type": "execute_result"
    }
   ],
   "source": [
    "df['Fuel'].unique()"
   ]
  },
  {
   "cell_type": "code",
   "execution_count": 179,
   "metadata": {},
   "outputs": [
    {
     "data": {
      "text/plain": [
       "array(['Hyundai', 'Chevrolet', 'Fiat'], dtype=object)"
      ]
     },
     "execution_count": 179,
     "metadata": {},
     "output_type": "execute_result"
    }
   ],
   "source": [
    "df['Brand'].unique()"
   ]
  },
  {
   "cell_type": "code",
   "execution_count": 180,
   "metadata": {},
   "outputs": [
    {
     "data": {
      "text/plain": [
       "array(['1600 CC', '1000 - 1300 CC', '1400 - 1500 CC'], dtype=object)"
      ]
     },
     "execution_count": 180,
     "metadata": {},
     "output_type": "execute_result"
    }
   ],
   "source": [
    "df['Engine'].unique()"
   ]
  },
  {
   "cell_type": "code",
   "execution_count": 181,
   "metadata": {},
   "outputs": [
    {
     "data": {
      "text/plain": [
       "array(['Giza', 'Qena', 'Cairo', 'Minya', 'Alexandria', 'Dakahlia', 'Suez',\n",
       "       'Sharqia', 'Kafr al-Sheikh', 'Beheira', 'Ismailia', 'Sohag',\n",
       "       'Monufia', 'Qalyubia', 'Beni Suef', 'Asyut', 'Fayoum', 'Gharbia',\n",
       "       'Matruh', 'Damietta', 'Red Sea', 'Port Said', 'Luxor',\n",
       "       'South Sinai', 'New Valley', 'Aswan'], dtype=object)"
      ]
     },
     "execution_count": 181,
     "metadata": {},
     "output_type": "execute_result"
    }
   ],
   "source": [
    "df['Gov'].unique()"
   ]
  },
  {
   "cell_type": "code",
   "execution_count": 182,
   "metadata": {},
   "outputs": [
    {
     "data": {
      "text/plain": [
       "array(['Accent', 'Avante', 'I10', 'Elantra', 'Excel', 'Matrix', 'Tucson',\n",
       "       'Verna', 'Cruze', 'Aveo', 'Lanos', 'Optra', '128', '131', 'Punto',\n",
       "       'Shahin', 'Tipo', 'Uno'], dtype=object)"
      ]
     },
     "execution_count": 182,
     "metadata": {},
     "output_type": "execute_result"
    }
   ],
   "source": [
    "df['Model'].unique()"
   ]
  },
  {
   "cell_type": "code",
   "execution_count": 183,
   "metadata": {},
   "outputs": [
    {
     "data": {
      "text/plain": [
       "array(['Sedan', 'Hatchback', 'SUV'], dtype=object)"
      ]
     },
     "execution_count": 183,
     "metadata": {},
     "output_type": "execute_result"
    }
   ],
   "source": [
    "df['Body'].unique()"
   ]
  },
  {
   "cell_type": "code",
   "execution_count": 184,
   "metadata": {},
   "outputs": [
    {
     "data": {
      "text/plain": [
       "115.0    254\n",
       "138.0    209\n",
       "185.6    195\n",
       "161.4    195\n",
       "120.0    187\n",
       "        ... \n",
       "283.0      1\n",
       "277.0      1\n",
       "328.0      1\n",
       "231.0      1\n",
       "46.6       1\n",
       "Name: Price, Length: 537, dtype: int64"
      ]
     },
     "execution_count": 184,
     "metadata": {},
     "output_type": "execute_result"
    }
   ],
   "source": [
    "df['Price'].value_counts()"
   ]
  },
  {
   "cell_type": "code",
   "execution_count": 185,
   "metadata": {},
   "outputs": [
    {
     "data": {
      "text/plain": [
       "2013    839\n",
       "2010    737\n",
       "2015    720\n",
       "2011    704\n",
       "2017    690\n",
       "2012    682\n",
       "2014    621\n",
       "2019    603\n",
       "2018    569\n",
       "2016    560\n",
       "2009    555\n",
       "2008    432\n",
       "2021    382\n",
       "2020    344\n",
       "2006    281\n",
       "2007    268\n",
       "2001    242\n",
       "1999    226\n",
       "2002    225\n",
       "2005    218\n",
       "2000    216\n",
       "2003    205\n",
       "1998    198\n",
       "2004    182\n",
       "1997    165\n",
       "1996    153\n",
       "2022    118\n",
       "1994    114\n",
       "1993    105\n",
       "1995     98\n",
       "1990     64\n",
       "1982     53\n",
       "1985     45\n",
       "1987     40\n",
       "1979     39\n",
       "1984     36\n",
       "1992     35\n",
       "1991     34\n",
       "1983     32\n",
       "1981     32\n",
       "1986     25\n",
       "1980     25\n",
       "1988     22\n",
       "1976     18\n",
       "1978     17\n",
       "1989     13\n",
       "1977      9\n",
       "1975      8\n",
       "1972      4\n",
       "1973      2\n",
       "1974      2\n",
       "Name: Year, dtype: int64"
      ]
     },
     "execution_count": 185,
     "metadata": {},
     "output_type": "execute_result"
    }
   ],
   "source": [
    "df['Year'].value_counts()"
   ]
  },
  {
   "cell_type": "code",
   "execution_count": 186,
   "metadata": {},
   "outputs": [
    {
     "data": {
      "text/plain": [
       "array(['140000 to 159999', '180000 to 199999', '10000 to 19999',\n",
       "       'More than 200000', '90000 to 99999', '100000 to 119999',\n",
       "       '160000 to 179999', '120000 to 139999', '0 to 9999',\n",
       "       '20000 to 29999', '30000 to 39999', '80000 to 89999',\n",
       "       '60000 to 69999', '70000 to 79999', '40000 to 49999',\n",
       "       '50000 to 59999'], dtype=object)"
      ]
     },
     "execution_count": 186,
     "metadata": {},
     "output_type": "execute_result"
    }
   ],
   "source": [
    "df['Kilometers'].unique()"
   ]
  },
  {
   "cell_type": "code",
   "execution_count": 187,
   "metadata": {},
   "outputs": [
    {
     "data": {
      "text/plain": [
       "Black              1991\n",
       "Silver             1819\n",
       "White              1717\n",
       "Gray               1604\n",
       "Blue- Navy Blue    1085\n",
       "Burgundy            995\n",
       "Other Color         990\n",
       "Red                 847\n",
       "Gold                339\n",
       "Green               321\n",
       "Brown               134\n",
       "Beige                72\n",
       "Yellow               62\n",
       "Orange               31\n",
       "Name: Color, dtype: int64"
      ]
     },
     "execution_count": 187,
     "metadata": {},
     "output_type": "execute_result"
    }
   ],
   "source": [
    "df['Color'].value_counts()"
   ]
  },
  {
   "cell_type": "code",
   "execution_count": 188,
   "metadata": {},
   "outputs": [
    {
     "data": {
      "text/plain": [
       "array(['Black', 'Silver', 'Gray', 'Blue- Navy Blue', 'Green', 'Red',\n",
       "       'Gold', 'Other Color', 'Burgundy', 'White', 'Yellow', 'Brown',\n",
       "       'Orange', 'Beige'], dtype=object)"
      ]
     },
     "execution_count": 188,
     "metadata": {},
     "output_type": "execute_result"
    }
   ],
   "source": [
    "df['Color'].unique()"
   ]
  },
  {
   "cell_type": "code",
   "execution_count": 189,
   "metadata": {},
   "outputs": [],
   "source": [
    "# increasing prices\n",
    "df.Price = df.Price.apply(lambda x : x*1.2)"
   ]
  },
  {
   "cell_type": "code",
   "execution_count": 190,
   "metadata": {},
   "outputs": [
    {
     "data": {
      "text/html": [
       "<div>\n",
       "<style scoped>\n",
       "    .dataframe tbody tr th:only-of-type {\n",
       "        vertical-align: middle;\n",
       "    }\n",
       "\n",
       "    .dataframe tbody tr th {\n",
       "        vertical-align: top;\n",
       "    }\n",
       "\n",
       "    .dataframe thead th {\n",
       "        text-align: right;\n",
       "    }\n",
       "</style>\n",
       "<table border=\"1\" class=\"dataframe\">\n",
       "  <thead>\n",
       "    <tr style=\"text-align: right;\">\n",
       "      <th></th>\n",
       "      <th>Brand</th>\n",
       "      <th>Model</th>\n",
       "      <th>Body</th>\n",
       "      <th>Color</th>\n",
       "      <th>Year</th>\n",
       "      <th>Fuel</th>\n",
       "      <th>Kilometers</th>\n",
       "      <th>Engine</th>\n",
       "      <th>Transmission</th>\n",
       "      <th>Price</th>\n",
       "      <th>Gov</th>\n",
       "    </tr>\n",
       "  </thead>\n",
       "  <tbody>\n",
       "    <tr>\n",
       "      <th>0</th>\n",
       "      <td>Hyundai</td>\n",
       "      <td>Accent</td>\n",
       "      <td>Sedan</td>\n",
       "      <td>Black</td>\n",
       "      <td>2007</td>\n",
       "      <td>Benzine</td>\n",
       "      <td>140000 to 159999</td>\n",
       "      <td>1600 CC</td>\n",
       "      <td>Automatic</td>\n",
       "      <td>168.00</td>\n",
       "      <td>Giza</td>\n",
       "    </tr>\n",
       "    <tr>\n",
       "      <th>1</th>\n",
       "      <td>Hyundai</td>\n",
       "      <td>Accent</td>\n",
       "      <td>Sedan</td>\n",
       "      <td>Silver</td>\n",
       "      <td>2005</td>\n",
       "      <td>Benzine</td>\n",
       "      <td>180000 to 199999</td>\n",
       "      <td>1000 - 1300 CC</td>\n",
       "      <td>Manual</td>\n",
       "      <td>93.60</td>\n",
       "      <td>Qena</td>\n",
       "    </tr>\n",
       "    <tr>\n",
       "      <th>2</th>\n",
       "      <td>Hyundai</td>\n",
       "      <td>Accent</td>\n",
       "      <td>Sedan</td>\n",
       "      <td>Gray</td>\n",
       "      <td>1999</td>\n",
       "      <td>Benzine</td>\n",
       "      <td>140000 to 159999</td>\n",
       "      <td>1400 - 1500 CC</td>\n",
       "      <td>Manual</td>\n",
       "      <td>84.00</td>\n",
       "      <td>Giza</td>\n",
       "    </tr>\n",
       "    <tr>\n",
       "      <th>3</th>\n",
       "      <td>Hyundai</td>\n",
       "      <td>Accent</td>\n",
       "      <td>Sedan</td>\n",
       "      <td>Blue- Navy Blue</td>\n",
       "      <td>2009</td>\n",
       "      <td>Benzine</td>\n",
       "      <td>140000 to 159999</td>\n",
       "      <td>1600 CC</td>\n",
       "      <td>Automatic</td>\n",
       "      <td>180.00</td>\n",
       "      <td>Cairo</td>\n",
       "    </tr>\n",
       "    <tr>\n",
       "      <th>4</th>\n",
       "      <td>Hyundai</td>\n",
       "      <td>Accent</td>\n",
       "      <td>Sedan</td>\n",
       "      <td>Silver</td>\n",
       "      <td>2000</td>\n",
       "      <td>Benzine</td>\n",
       "      <td>10000 to 19999</td>\n",
       "      <td>1000 - 1300 CC</td>\n",
       "      <td>Manual</td>\n",
       "      <td>90.00</td>\n",
       "      <td>Giza</td>\n",
       "    </tr>\n",
       "    <tr>\n",
       "      <th>...</th>\n",
       "      <td>...</td>\n",
       "      <td>...</td>\n",
       "      <td>...</td>\n",
       "      <td>...</td>\n",
       "      <td>...</td>\n",
       "      <td>...</td>\n",
       "      <td>...</td>\n",
       "      <td>...</td>\n",
       "      <td>...</td>\n",
       "      <td>...</td>\n",
       "      <td>...</td>\n",
       "    </tr>\n",
       "    <tr>\n",
       "      <th>14736</th>\n",
       "      <td>Fiat</td>\n",
       "      <td>Uno</td>\n",
       "      <td>Hatchback</td>\n",
       "      <td>Burgundy</td>\n",
       "      <td>1997</td>\n",
       "      <td>Benzine</td>\n",
       "      <td>160000 to 179999</td>\n",
       "      <td>1000 - 1300 CC</td>\n",
       "      <td>Manual</td>\n",
       "      <td>55.20</td>\n",
       "      <td>Cairo</td>\n",
       "    </tr>\n",
       "    <tr>\n",
       "      <th>14737</th>\n",
       "      <td>Fiat</td>\n",
       "      <td>Uno</td>\n",
       "      <td>Hatchback</td>\n",
       "      <td>Silver</td>\n",
       "      <td>1996</td>\n",
       "      <td>Benzine</td>\n",
       "      <td>20000 to 29999</td>\n",
       "      <td>1000 - 1300 CC</td>\n",
       "      <td>Manual</td>\n",
       "      <td>55.20</td>\n",
       "      <td>Alexandria</td>\n",
       "    </tr>\n",
       "    <tr>\n",
       "      <th>14738</th>\n",
       "      <td>Fiat</td>\n",
       "      <td>Uno</td>\n",
       "      <td>Hatchback</td>\n",
       "      <td>Burgundy</td>\n",
       "      <td>1993</td>\n",
       "      <td>Benzine</td>\n",
       "      <td>10000 to 19999</td>\n",
       "      <td>1000 - 1300 CC</td>\n",
       "      <td>Manual</td>\n",
       "      <td>52.44</td>\n",
       "      <td>Giza</td>\n",
       "    </tr>\n",
       "    <tr>\n",
       "      <th>14739</th>\n",
       "      <td>Fiat</td>\n",
       "      <td>Uno</td>\n",
       "      <td>Hatchback</td>\n",
       "      <td>Silver</td>\n",
       "      <td>1996</td>\n",
       "      <td>Benzine</td>\n",
       "      <td>10000 to 19999</td>\n",
       "      <td>1000 - 1300 CC</td>\n",
       "      <td>Manual</td>\n",
       "      <td>82.80</td>\n",
       "      <td>Cairo</td>\n",
       "    </tr>\n",
       "    <tr>\n",
       "      <th>14740</th>\n",
       "      <td>Fiat</td>\n",
       "      <td>Uno</td>\n",
       "      <td>Hatchback</td>\n",
       "      <td>White</td>\n",
       "      <td>2000</td>\n",
       "      <td>Benzine</td>\n",
       "      <td>30000 to 39999</td>\n",
       "      <td>1000 - 1300 CC</td>\n",
       "      <td>Manual</td>\n",
       "      <td>48.24</td>\n",
       "      <td>Qalyubia</td>\n",
       "    </tr>\n",
       "  </tbody>\n",
       "</table>\n",
       "<p>12007 rows × 11 columns</p>\n",
       "</div>"
      ],
      "text/plain": [
       "         Brand   Model       Body            Color  Year     Fuel  \\\n",
       "0      Hyundai  Accent      Sedan            Black  2007  Benzine   \n",
       "1      Hyundai  Accent      Sedan           Silver  2005  Benzine   \n",
       "2      Hyundai  Accent      Sedan             Gray  1999  Benzine   \n",
       "3      Hyundai  Accent      Sedan  Blue- Navy Blue  2009  Benzine   \n",
       "4      Hyundai  Accent      Sedan           Silver  2000  Benzine   \n",
       "...        ...     ...        ...              ...   ...      ...   \n",
       "14736     Fiat     Uno  Hatchback         Burgundy  1997  Benzine   \n",
       "14737     Fiat     Uno  Hatchback           Silver  1996  Benzine   \n",
       "14738     Fiat     Uno  Hatchback         Burgundy  1993  Benzine   \n",
       "14739     Fiat     Uno  Hatchback           Silver  1996  Benzine   \n",
       "14740     Fiat     Uno  Hatchback            White  2000  Benzine   \n",
       "\n",
       "             Kilometers          Engine Transmission   Price         Gov  \n",
       "0      140000 to 159999         1600 CC    Automatic  168.00        Giza  \n",
       "1      180000 to 199999  1000 - 1300 CC       Manual   93.60        Qena  \n",
       "2      140000 to 159999  1400 - 1500 CC       Manual   84.00        Giza  \n",
       "3      140000 to 159999         1600 CC    Automatic  180.00       Cairo  \n",
       "4        10000 to 19999  1000 - 1300 CC       Manual   90.00        Giza  \n",
       "...                 ...             ...          ...     ...         ...  \n",
       "14736  160000 to 179999  1000 - 1300 CC       Manual   55.20       Cairo  \n",
       "14737    20000 to 29999  1000 - 1300 CC       Manual   55.20  Alexandria  \n",
       "14738    10000 to 19999  1000 - 1300 CC       Manual   52.44        Giza  \n",
       "14739    10000 to 19999  1000 - 1300 CC       Manual   82.80       Cairo  \n",
       "14740    30000 to 39999  1000 - 1300 CC       Manual   48.24    Qalyubia  \n",
       "\n",
       "[12007 rows x 11 columns]"
      ]
     },
     "execution_count": 190,
     "metadata": {},
     "output_type": "execute_result"
    }
   ],
   "source": [
    "df"
   ]
  },
  {
   "attachments": {},
   "cell_type": "markdown",
   "metadata": {},
   "source": [
    "# Split_data"
   ]
  },
  {
   "cell_type": "code",
   "execution_count": 191,
   "metadata": {},
   "outputs": [],
   "source": [
    "x = df.drop(\"Price\" , axis = 1 )"
   ]
  },
  {
   "cell_type": "code",
   "execution_count": 192,
   "metadata": {},
   "outputs": [],
   "source": [
    "y = df[\"Price\"]"
   ]
  },
  {
   "cell_type": "code",
   "execution_count": 193,
   "metadata": {},
   "outputs": [],
   "source": [
    "y= pd.DataFrame(y)"
   ]
  },
  {
   "cell_type": "code",
   "execution_count": 194,
   "metadata": {},
   "outputs": [
    {
     "data": {
      "text/html": [
       "<div>\n",
       "<style scoped>\n",
       "    .dataframe tbody tr th:only-of-type {\n",
       "        vertical-align: middle;\n",
       "    }\n",
       "\n",
       "    .dataframe tbody tr th {\n",
       "        vertical-align: top;\n",
       "    }\n",
       "\n",
       "    .dataframe thead th {\n",
       "        text-align: right;\n",
       "    }\n",
       "</style>\n",
       "<table border=\"1\" class=\"dataframe\">\n",
       "  <thead>\n",
       "    <tr style=\"text-align: right;\">\n",
       "      <th></th>\n",
       "      <th>Price</th>\n",
       "    </tr>\n",
       "  </thead>\n",
       "  <tbody>\n",
       "    <tr>\n",
       "      <th>0</th>\n",
       "      <td>168.00</td>\n",
       "    </tr>\n",
       "    <tr>\n",
       "      <th>1</th>\n",
       "      <td>93.60</td>\n",
       "    </tr>\n",
       "    <tr>\n",
       "      <th>2</th>\n",
       "      <td>84.00</td>\n",
       "    </tr>\n",
       "    <tr>\n",
       "      <th>3</th>\n",
       "      <td>180.00</td>\n",
       "    </tr>\n",
       "    <tr>\n",
       "      <th>4</th>\n",
       "      <td>90.00</td>\n",
       "    </tr>\n",
       "    <tr>\n",
       "      <th>...</th>\n",
       "      <td>...</td>\n",
       "    </tr>\n",
       "    <tr>\n",
       "      <th>14736</th>\n",
       "      <td>55.20</td>\n",
       "    </tr>\n",
       "    <tr>\n",
       "      <th>14737</th>\n",
       "      <td>55.20</td>\n",
       "    </tr>\n",
       "    <tr>\n",
       "      <th>14738</th>\n",
       "      <td>52.44</td>\n",
       "    </tr>\n",
       "    <tr>\n",
       "      <th>14739</th>\n",
       "      <td>82.80</td>\n",
       "    </tr>\n",
       "    <tr>\n",
       "      <th>14740</th>\n",
       "      <td>48.24</td>\n",
       "    </tr>\n",
       "  </tbody>\n",
       "</table>\n",
       "<p>12007 rows × 1 columns</p>\n",
       "</div>"
      ],
      "text/plain": [
       "        Price\n",
       "0      168.00\n",
       "1       93.60\n",
       "2       84.00\n",
       "3      180.00\n",
       "4       90.00\n",
       "...       ...\n",
       "14736   55.20\n",
       "14737   55.20\n",
       "14738   52.44\n",
       "14739   82.80\n",
       "14740   48.24\n",
       "\n",
       "[12007 rows x 1 columns]"
      ]
     },
     "execution_count": 194,
     "metadata": {},
     "output_type": "execute_result"
    }
   ],
   "source": [
    "y"
   ]
  },
  {
   "cell_type": "code",
   "execution_count": 195,
   "metadata": {},
   "outputs": [],
   "source": [
    "x_train ,x_test , y_train, y_test = train_test_split( x, y , test_size =0.2 , random_state =42 )"
   ]
  },
  {
   "cell_type": "code",
   "execution_count": 196,
   "metadata": {},
   "outputs": [
    {
     "data": {
      "text/html": [
       "<div>\n",
       "<style scoped>\n",
       "    .dataframe tbody tr th:only-of-type {\n",
       "        vertical-align: middle;\n",
       "    }\n",
       "\n",
       "    .dataframe tbody tr th {\n",
       "        vertical-align: top;\n",
       "    }\n",
       "\n",
       "    .dataframe thead th {\n",
       "        text-align: right;\n",
       "    }\n",
       "</style>\n",
       "<table border=\"1\" class=\"dataframe\">\n",
       "  <thead>\n",
       "    <tr style=\"text-align: right;\">\n",
       "      <th></th>\n",
       "      <th>Brand</th>\n",
       "      <th>Model</th>\n",
       "      <th>Body</th>\n",
       "      <th>Color</th>\n",
       "      <th>Year</th>\n",
       "      <th>Fuel</th>\n",
       "      <th>Kilometers</th>\n",
       "      <th>Engine</th>\n",
       "      <th>Transmission</th>\n",
       "      <th>Gov</th>\n",
       "    </tr>\n",
       "  </thead>\n",
       "  <tbody>\n",
       "    <tr>\n",
       "      <th>4037</th>\n",
       "      <td>Hyundai</td>\n",
       "      <td>Elantra</td>\n",
       "      <td>Sedan</td>\n",
       "      <td>Gray</td>\n",
       "      <td>2015</td>\n",
       "      <td>Benzine</td>\n",
       "      <td>More than 200000</td>\n",
       "      <td>1600 CC</td>\n",
       "      <td>Automatic</td>\n",
       "      <td>Beheira</td>\n",
       "    </tr>\n",
       "    <tr>\n",
       "      <th>6092</th>\n",
       "      <td>Chevrolet</td>\n",
       "      <td>Cruze</td>\n",
       "      <td>Sedan</td>\n",
       "      <td>Black</td>\n",
       "      <td>2016</td>\n",
       "      <td>Benzine</td>\n",
       "      <td>100000 to 119999</td>\n",
       "      <td>1600 CC</td>\n",
       "      <td>Automatic</td>\n",
       "      <td>Cairo</td>\n",
       "    </tr>\n",
       "    <tr>\n",
       "      <th>6191</th>\n",
       "      <td>Chevrolet</td>\n",
       "      <td>Aveo</td>\n",
       "      <td>Sedan</td>\n",
       "      <td>Black</td>\n",
       "      <td>2009</td>\n",
       "      <td>Benzine</td>\n",
       "      <td>More than 200000</td>\n",
       "      <td>1400 - 1500 CC</td>\n",
       "      <td>Manual</td>\n",
       "      <td>Alexandria</td>\n",
       "    </tr>\n",
       "    <tr>\n",
       "      <th>9633</th>\n",
       "      <td>Chevrolet</td>\n",
       "      <td>Optra</td>\n",
       "      <td>Sedan</td>\n",
       "      <td>Silver</td>\n",
       "      <td>2019</td>\n",
       "      <td>Benzine</td>\n",
       "      <td>10000 to 19999</td>\n",
       "      <td>1600 CC</td>\n",
       "      <td>Automatic</td>\n",
       "      <td>Alexandria</td>\n",
       "    </tr>\n",
       "    <tr>\n",
       "      <th>8372</th>\n",
       "      <td>Chevrolet</td>\n",
       "      <td>Cruze</td>\n",
       "      <td>Sedan</td>\n",
       "      <td>Gray</td>\n",
       "      <td>2013</td>\n",
       "      <td>Benzine</td>\n",
       "      <td>180000 to 199999</td>\n",
       "      <td>1600 CC</td>\n",
       "      <td>Automatic</td>\n",
       "      <td>Giza</td>\n",
       "    </tr>\n",
       "    <tr>\n",
       "      <th>...</th>\n",
       "      <td>...</td>\n",
       "      <td>...</td>\n",
       "      <td>...</td>\n",
       "      <td>...</td>\n",
       "      <td>...</td>\n",
       "      <td>...</td>\n",
       "      <td>...</td>\n",
       "      <td>...</td>\n",
       "      <td>...</td>\n",
       "      <td>...</td>\n",
       "    </tr>\n",
       "    <tr>\n",
       "      <th>14697</th>\n",
       "      <td>Fiat</td>\n",
       "      <td>Uno</td>\n",
       "      <td>Hatchback</td>\n",
       "      <td>Blue- Navy Blue</td>\n",
       "      <td>2001</td>\n",
       "      <td>Benzine</td>\n",
       "      <td>More than 200000</td>\n",
       "      <td>1000 - 1300 CC</td>\n",
       "      <td>Manual</td>\n",
       "      <td>Alexandria</td>\n",
       "    </tr>\n",
       "    <tr>\n",
       "      <th>5260</th>\n",
       "      <td>Hyundai</td>\n",
       "      <td>Verna</td>\n",
       "      <td>Sedan</td>\n",
       "      <td>Blue- Navy Blue</td>\n",
       "      <td>2010</td>\n",
       "      <td>Benzine</td>\n",
       "      <td>40000 to 49999</td>\n",
       "      <td>1600 CC</td>\n",
       "      <td>Manual</td>\n",
       "      <td>Luxor</td>\n",
       "    </tr>\n",
       "    <tr>\n",
       "      <th>5462</th>\n",
       "      <td>Hyundai</td>\n",
       "      <td>Verna</td>\n",
       "      <td>Sedan</td>\n",
       "      <td>Red</td>\n",
       "      <td>2017</td>\n",
       "      <td>Benzine</td>\n",
       "      <td>60000 to 69999</td>\n",
       "      <td>1600 CC</td>\n",
       "      <td>Manual</td>\n",
       "      <td>Monufia</td>\n",
       "    </tr>\n",
       "    <tr>\n",
       "      <th>870</th>\n",
       "      <td>Hyundai</td>\n",
       "      <td>Elantra</td>\n",
       "      <td>Sedan</td>\n",
       "      <td>White</td>\n",
       "      <td>2020</td>\n",
       "      <td>Benzine</td>\n",
       "      <td>60000 to 69999</td>\n",
       "      <td>1600 CC</td>\n",
       "      <td>Automatic</td>\n",
       "      <td>Kafr al-Sheikh</td>\n",
       "    </tr>\n",
       "    <tr>\n",
       "      <th>7354</th>\n",
       "      <td>Chevrolet</td>\n",
       "      <td>Optra</td>\n",
       "      <td>Sedan</td>\n",
       "      <td>White</td>\n",
       "      <td>2008</td>\n",
       "      <td>Benzine</td>\n",
       "      <td>180000 to 199999</td>\n",
       "      <td>1600 CC</td>\n",
       "      <td>Automatic</td>\n",
       "      <td>Giza</td>\n",
       "    </tr>\n",
       "  </tbody>\n",
       "</table>\n",
       "<p>9605 rows × 10 columns</p>\n",
       "</div>"
      ],
      "text/plain": [
       "           Brand    Model       Body            Color  Year     Fuel  \\\n",
       "4037     Hyundai  Elantra      Sedan             Gray  2015  Benzine   \n",
       "6092   Chevrolet    Cruze      Sedan            Black  2016  Benzine   \n",
       "6191   Chevrolet     Aveo      Sedan            Black  2009  Benzine   \n",
       "9633   Chevrolet    Optra      Sedan           Silver  2019  Benzine   \n",
       "8372   Chevrolet    Cruze      Sedan             Gray  2013  Benzine   \n",
       "...          ...      ...        ...              ...   ...      ...   \n",
       "14697       Fiat      Uno  Hatchback  Blue- Navy Blue  2001  Benzine   \n",
       "5260     Hyundai    Verna      Sedan  Blue- Navy Blue  2010  Benzine   \n",
       "5462     Hyundai    Verna      Sedan              Red  2017  Benzine   \n",
       "870      Hyundai  Elantra      Sedan            White  2020  Benzine   \n",
       "7354   Chevrolet    Optra      Sedan            White  2008  Benzine   \n",
       "\n",
       "             Kilometers          Engine Transmission             Gov  \n",
       "4037   More than 200000         1600 CC    Automatic         Beheira  \n",
       "6092   100000 to 119999         1600 CC    Automatic           Cairo  \n",
       "6191   More than 200000  1400 - 1500 CC       Manual      Alexandria  \n",
       "9633     10000 to 19999         1600 CC    Automatic      Alexandria  \n",
       "8372   180000 to 199999         1600 CC    Automatic            Giza  \n",
       "...                 ...             ...          ...             ...  \n",
       "14697  More than 200000  1000 - 1300 CC       Manual      Alexandria  \n",
       "5260     40000 to 49999         1600 CC       Manual           Luxor  \n",
       "5462     60000 to 69999         1600 CC       Manual         Monufia  \n",
       "870      60000 to 69999         1600 CC    Automatic  Kafr al-Sheikh  \n",
       "7354   180000 to 199999         1600 CC    Automatic            Giza  \n",
       "\n",
       "[9605 rows x 10 columns]"
      ]
     },
     "execution_count": 196,
     "metadata": {},
     "output_type": "execute_result"
    }
   ],
   "source": [
    "x_train"
   ]
  },
  {
   "attachments": {},
   "cell_type": "markdown",
   "metadata": {},
   "source": [
    "## handle categorical"
   ]
  },
  {
   "cell_type": "code",
   "execution_count": 197,
   "metadata": {},
   "outputs": [
    {
     "data": {
      "text/html": [
       "<div>\n",
       "<style scoped>\n",
       "    .dataframe tbody tr th:only-of-type {\n",
       "        vertical-align: middle;\n",
       "    }\n",
       "\n",
       "    .dataframe tbody tr th {\n",
       "        vertical-align: top;\n",
       "    }\n",
       "\n",
       "    .dataframe thead th {\n",
       "        text-align: right;\n",
       "    }\n",
       "</style>\n",
       "<table border=\"1\" class=\"dataframe\">\n",
       "  <thead>\n",
       "    <tr style=\"text-align: right;\">\n",
       "      <th></th>\n",
       "      <th>Brand</th>\n",
       "      <th>Model</th>\n",
       "      <th>Body</th>\n",
       "      <th>Color</th>\n",
       "      <th>Year</th>\n",
       "      <th>Fuel</th>\n",
       "      <th>Kilometers</th>\n",
       "      <th>Engine</th>\n",
       "      <th>Transmission</th>\n",
       "      <th>Gov</th>\n",
       "    </tr>\n",
       "  </thead>\n",
       "  <tbody>\n",
       "    <tr>\n",
       "      <th>4037</th>\n",
       "      <td>Hyundai</td>\n",
       "      <td>Elantra</td>\n",
       "      <td>Sedan</td>\n",
       "      <td>Gray</td>\n",
       "      <td>2015</td>\n",
       "      <td>Benzine</td>\n",
       "      <td>More than 200000</td>\n",
       "      <td>1600 CC</td>\n",
       "      <td>Automatic</td>\n",
       "      <td>Beheira</td>\n",
       "    </tr>\n",
       "    <tr>\n",
       "      <th>6092</th>\n",
       "      <td>Chevrolet</td>\n",
       "      <td>Cruze</td>\n",
       "      <td>Sedan</td>\n",
       "      <td>Black</td>\n",
       "      <td>2016</td>\n",
       "      <td>Benzine</td>\n",
       "      <td>100000 to 119999</td>\n",
       "      <td>1600 CC</td>\n",
       "      <td>Automatic</td>\n",
       "      <td>Cairo</td>\n",
       "    </tr>\n",
       "    <tr>\n",
       "      <th>6191</th>\n",
       "      <td>Chevrolet</td>\n",
       "      <td>Aveo</td>\n",
       "      <td>Sedan</td>\n",
       "      <td>Black</td>\n",
       "      <td>2009</td>\n",
       "      <td>Benzine</td>\n",
       "      <td>More than 200000</td>\n",
       "      <td>1400 - 1500 CC</td>\n",
       "      <td>Manual</td>\n",
       "      <td>Alexandria</td>\n",
       "    </tr>\n",
       "    <tr>\n",
       "      <th>9633</th>\n",
       "      <td>Chevrolet</td>\n",
       "      <td>Optra</td>\n",
       "      <td>Sedan</td>\n",
       "      <td>Silver</td>\n",
       "      <td>2019</td>\n",
       "      <td>Benzine</td>\n",
       "      <td>10000 to 19999</td>\n",
       "      <td>1600 CC</td>\n",
       "      <td>Automatic</td>\n",
       "      <td>Alexandria</td>\n",
       "    </tr>\n",
       "    <tr>\n",
       "      <th>8372</th>\n",
       "      <td>Chevrolet</td>\n",
       "      <td>Cruze</td>\n",
       "      <td>Sedan</td>\n",
       "      <td>Gray</td>\n",
       "      <td>2013</td>\n",
       "      <td>Benzine</td>\n",
       "      <td>180000 to 199999</td>\n",
       "      <td>1600 CC</td>\n",
       "      <td>Automatic</td>\n",
       "      <td>Giza</td>\n",
       "    </tr>\n",
       "    <tr>\n",
       "      <th>...</th>\n",
       "      <td>...</td>\n",
       "      <td>...</td>\n",
       "      <td>...</td>\n",
       "      <td>...</td>\n",
       "      <td>...</td>\n",
       "      <td>...</td>\n",
       "      <td>...</td>\n",
       "      <td>...</td>\n",
       "      <td>...</td>\n",
       "      <td>...</td>\n",
       "    </tr>\n",
       "    <tr>\n",
       "      <th>14697</th>\n",
       "      <td>Fiat</td>\n",
       "      <td>Uno</td>\n",
       "      <td>Hatchback</td>\n",
       "      <td>Blue- Navy Blue</td>\n",
       "      <td>2001</td>\n",
       "      <td>Benzine</td>\n",
       "      <td>More than 200000</td>\n",
       "      <td>1000 - 1300 CC</td>\n",
       "      <td>Manual</td>\n",
       "      <td>Alexandria</td>\n",
       "    </tr>\n",
       "    <tr>\n",
       "      <th>5260</th>\n",
       "      <td>Hyundai</td>\n",
       "      <td>Verna</td>\n",
       "      <td>Sedan</td>\n",
       "      <td>Blue- Navy Blue</td>\n",
       "      <td>2010</td>\n",
       "      <td>Benzine</td>\n",
       "      <td>40000 to 49999</td>\n",
       "      <td>1600 CC</td>\n",
       "      <td>Manual</td>\n",
       "      <td>Luxor</td>\n",
       "    </tr>\n",
       "    <tr>\n",
       "      <th>5462</th>\n",
       "      <td>Hyundai</td>\n",
       "      <td>Verna</td>\n",
       "      <td>Sedan</td>\n",
       "      <td>Red</td>\n",
       "      <td>2017</td>\n",
       "      <td>Benzine</td>\n",
       "      <td>60000 to 69999</td>\n",
       "      <td>1600 CC</td>\n",
       "      <td>Manual</td>\n",
       "      <td>Monufia</td>\n",
       "    </tr>\n",
       "    <tr>\n",
       "      <th>870</th>\n",
       "      <td>Hyundai</td>\n",
       "      <td>Elantra</td>\n",
       "      <td>Sedan</td>\n",
       "      <td>White</td>\n",
       "      <td>2020</td>\n",
       "      <td>Benzine</td>\n",
       "      <td>60000 to 69999</td>\n",
       "      <td>1600 CC</td>\n",
       "      <td>Automatic</td>\n",
       "      <td>Kafr al-Sheikh</td>\n",
       "    </tr>\n",
       "    <tr>\n",
       "      <th>7354</th>\n",
       "      <td>Chevrolet</td>\n",
       "      <td>Optra</td>\n",
       "      <td>Sedan</td>\n",
       "      <td>White</td>\n",
       "      <td>2008</td>\n",
       "      <td>Benzine</td>\n",
       "      <td>180000 to 199999</td>\n",
       "      <td>1600 CC</td>\n",
       "      <td>Automatic</td>\n",
       "      <td>Giza</td>\n",
       "    </tr>\n",
       "  </tbody>\n",
       "</table>\n",
       "<p>9605 rows × 10 columns</p>\n",
       "</div>"
      ],
      "text/plain": [
       "           Brand    Model       Body            Color  Year     Fuel  \\\n",
       "4037     Hyundai  Elantra      Sedan             Gray  2015  Benzine   \n",
       "6092   Chevrolet    Cruze      Sedan            Black  2016  Benzine   \n",
       "6191   Chevrolet     Aveo      Sedan            Black  2009  Benzine   \n",
       "9633   Chevrolet    Optra      Sedan           Silver  2019  Benzine   \n",
       "8372   Chevrolet    Cruze      Sedan             Gray  2013  Benzine   \n",
       "...          ...      ...        ...              ...   ...      ...   \n",
       "14697       Fiat      Uno  Hatchback  Blue- Navy Blue  2001  Benzine   \n",
       "5260     Hyundai    Verna      Sedan  Blue- Navy Blue  2010  Benzine   \n",
       "5462     Hyundai    Verna      Sedan              Red  2017  Benzine   \n",
       "870      Hyundai  Elantra      Sedan            White  2020  Benzine   \n",
       "7354   Chevrolet    Optra      Sedan            White  2008  Benzine   \n",
       "\n",
       "             Kilometers          Engine Transmission             Gov  \n",
       "4037   More than 200000         1600 CC    Automatic         Beheira  \n",
       "6092   100000 to 119999         1600 CC    Automatic           Cairo  \n",
       "6191   More than 200000  1400 - 1500 CC       Manual      Alexandria  \n",
       "9633     10000 to 19999         1600 CC    Automatic      Alexandria  \n",
       "8372   180000 to 199999         1600 CC    Automatic            Giza  \n",
       "...                 ...             ...          ...             ...  \n",
       "14697  More than 200000  1000 - 1300 CC       Manual      Alexandria  \n",
       "5260     40000 to 49999         1600 CC       Manual           Luxor  \n",
       "5462     60000 to 69999         1600 CC       Manual         Monufia  \n",
       "870      60000 to 69999         1600 CC    Automatic  Kafr al-Sheikh  \n",
       "7354   180000 to 199999         1600 CC    Automatic            Giza  \n",
       "\n",
       "[9605 rows x 10 columns]"
      ]
     },
     "execution_count": 197,
     "metadata": {},
     "output_type": "execute_result"
    }
   ],
   "source": [
    "x_train"
   ]
  },
  {
   "cell_type": "code",
   "execution_count": 198,
   "metadata": {},
   "outputs": [
    {
     "data": {
      "text/html": [
       "<div>\n",
       "<style scoped>\n",
       "    .dataframe tbody tr th:only-of-type {\n",
       "        vertical-align: middle;\n",
       "    }\n",
       "\n",
       "    .dataframe tbody tr th {\n",
       "        vertical-align: top;\n",
       "    }\n",
       "\n",
       "    .dataframe thead th {\n",
       "        text-align: right;\n",
       "    }\n",
       "</style>\n",
       "<table border=\"1\" class=\"dataframe\">\n",
       "  <thead>\n",
       "    <tr style=\"text-align: right;\">\n",
       "      <th></th>\n",
       "      <th>Brand</th>\n",
       "      <th>Model</th>\n",
       "      <th>Body</th>\n",
       "      <th>Color</th>\n",
       "      <th>Year</th>\n",
       "      <th>Fuel</th>\n",
       "      <th>Kilometers</th>\n",
       "      <th>Engine</th>\n",
       "      <th>Transmission</th>\n",
       "      <th>Price</th>\n",
       "      <th>Gov</th>\n",
       "    </tr>\n",
       "  </thead>\n",
       "  <tbody>\n",
       "    <tr>\n",
       "      <th>0</th>\n",
       "      <td>Hyundai</td>\n",
       "      <td>Accent</td>\n",
       "      <td>Sedan</td>\n",
       "      <td>Black</td>\n",
       "      <td>2007</td>\n",
       "      <td>Benzine</td>\n",
       "      <td>140000 to 159999</td>\n",
       "      <td>1600 CC</td>\n",
       "      <td>Automatic</td>\n",
       "      <td>168.0</td>\n",
       "      <td>Giza</td>\n",
       "    </tr>\n",
       "    <tr>\n",
       "      <th>1</th>\n",
       "      <td>Hyundai</td>\n",
       "      <td>Accent</td>\n",
       "      <td>Sedan</td>\n",
       "      <td>Silver</td>\n",
       "      <td>2005</td>\n",
       "      <td>Benzine</td>\n",
       "      <td>180000 to 199999</td>\n",
       "      <td>1000 - 1300 CC</td>\n",
       "      <td>Manual</td>\n",
       "      <td>93.6</td>\n",
       "      <td>Qena</td>\n",
       "    </tr>\n",
       "    <tr>\n",
       "      <th>2</th>\n",
       "      <td>Hyundai</td>\n",
       "      <td>Accent</td>\n",
       "      <td>Sedan</td>\n",
       "      <td>Gray</td>\n",
       "      <td>1999</td>\n",
       "      <td>Benzine</td>\n",
       "      <td>140000 to 159999</td>\n",
       "      <td>1400 - 1500 CC</td>\n",
       "      <td>Manual</td>\n",
       "      <td>84.0</td>\n",
       "      <td>Giza</td>\n",
       "    </tr>\n",
       "    <tr>\n",
       "      <th>3</th>\n",
       "      <td>Hyundai</td>\n",
       "      <td>Accent</td>\n",
       "      <td>Sedan</td>\n",
       "      <td>Blue- Navy Blue</td>\n",
       "      <td>2009</td>\n",
       "      <td>Benzine</td>\n",
       "      <td>140000 to 159999</td>\n",
       "      <td>1600 CC</td>\n",
       "      <td>Automatic</td>\n",
       "      <td>180.0</td>\n",
       "      <td>Cairo</td>\n",
       "    </tr>\n",
       "    <tr>\n",
       "      <th>4</th>\n",
       "      <td>Hyundai</td>\n",
       "      <td>Accent</td>\n",
       "      <td>Sedan</td>\n",
       "      <td>Silver</td>\n",
       "      <td>2000</td>\n",
       "      <td>Benzine</td>\n",
       "      <td>10000 to 19999</td>\n",
       "      <td>1000 - 1300 CC</td>\n",
       "      <td>Manual</td>\n",
       "      <td>90.0</td>\n",
       "      <td>Giza</td>\n",
       "    </tr>\n",
       "  </tbody>\n",
       "</table>\n",
       "</div>"
      ],
      "text/plain": [
       "     Brand   Model   Body            Color  Year     Fuel        Kilometers  \\\n",
       "0  Hyundai  Accent  Sedan            Black  2007  Benzine  140000 to 159999   \n",
       "1  Hyundai  Accent  Sedan           Silver  2005  Benzine  180000 to 199999   \n",
       "2  Hyundai  Accent  Sedan             Gray  1999  Benzine  140000 to 159999   \n",
       "3  Hyundai  Accent  Sedan  Blue- Navy Blue  2009  Benzine  140000 to 159999   \n",
       "4  Hyundai  Accent  Sedan           Silver  2000  Benzine    10000 to 19999   \n",
       "\n",
       "           Engine Transmission  Price    Gov  \n",
       "0         1600 CC    Automatic  168.0   Giza  \n",
       "1  1000 - 1300 CC       Manual   93.6   Qena  \n",
       "2  1400 - 1500 CC       Manual   84.0   Giza  \n",
       "3         1600 CC    Automatic  180.0  Cairo  \n",
       "4  1000 - 1300 CC       Manual   90.0   Giza  "
      ]
     },
     "execution_count": 198,
     "metadata": {},
     "output_type": "execute_result"
    }
   ],
   "source": [
    "df.head()"
   ]
  },
  {
   "cell_type": "code",
   "execution_count": 199,
   "metadata": {},
   "outputs": [],
   "source": [
    "encoder = BinaryEncoder(cols= ['Brand', 'Model', 'Body', 'Color', 'Fuel', 'Kilometers',\n",
    "       'Engine', 'Transmission', 'Gov']) "
   ]
  },
  {
   "cell_type": "code",
   "execution_count": 200,
   "metadata": {},
   "outputs": [],
   "source": [
    "x_train = encoder.fit_transform(x_train)"
   ]
  },
  {
   "cell_type": "code",
   "execution_count": 201,
   "metadata": {},
   "outputs": [],
   "source": [
    "x_test = encoder.transform(x_test)"
   ]
  },
  {
   "cell_type": "code",
   "execution_count": 202,
   "metadata": {},
   "outputs": [
    {
     "name": "stdout",
     "output_type": "stream",
     "text": [
      "<class 'pandas.core.frame.DataFrame'>\n",
      "Int64Index: 9605 entries, 4037 to 7354\n",
      "Data columns (total 30 columns):\n",
      " #   Column          Non-Null Count  Dtype\n",
      "---  ------          --------------  -----\n",
      " 0   Brand_0         9605 non-null   int64\n",
      " 1   Brand_1         9605 non-null   int64\n",
      " 2   Model_0         9605 non-null   int64\n",
      " 3   Model_1         9605 non-null   int64\n",
      " 4   Model_2         9605 non-null   int64\n",
      " 5   Model_3         9605 non-null   int64\n",
      " 6   Model_4         9605 non-null   int64\n",
      " 7   Body_0          9605 non-null   int64\n",
      " 8   Body_1          9605 non-null   int64\n",
      " 9   Color_0         9605 non-null   int64\n",
      " 10  Color_1         9605 non-null   int64\n",
      " 11  Color_2         9605 non-null   int64\n",
      " 12  Color_3         9605 non-null   int64\n",
      " 13  Year            9605 non-null   int64\n",
      " 14  Fuel_0          9605 non-null   int64\n",
      " 15  Fuel_1          9605 non-null   int64\n",
      " 16  Kilometers_0    9605 non-null   int64\n",
      " 17  Kilometers_1    9605 non-null   int64\n",
      " 18  Kilometers_2    9605 non-null   int64\n",
      " 19  Kilometers_3    9605 non-null   int64\n",
      " 20  Kilometers_4    9605 non-null   int64\n",
      " 21  Engine_0        9605 non-null   int64\n",
      " 22  Engine_1        9605 non-null   int64\n",
      " 23  Transmission_0  9605 non-null   int64\n",
      " 24  Transmission_1  9605 non-null   int64\n",
      " 25  Gov_0           9605 non-null   int64\n",
      " 26  Gov_1           9605 non-null   int64\n",
      " 27  Gov_2           9605 non-null   int64\n",
      " 28  Gov_3           9605 non-null   int64\n",
      " 29  Gov_4           9605 non-null   int64\n",
      "dtypes: int64(30)\n",
      "memory usage: 2.3 MB\n"
     ]
    }
   ],
   "source": [
    "x_train.info()"
   ]
  },
  {
   "attachments": {},
   "cell_type": "markdown",
   "metadata": {},
   "source": [
    "# Scaling data"
   ]
  },
  {
   "cell_type": "code",
   "execution_count": 203,
   "metadata": {},
   "outputs": [],
   "source": [
    "Scaler = MinMaxScaler()"
   ]
  },
  {
   "cell_type": "code",
   "execution_count": 204,
   "metadata": {},
   "outputs": [],
   "source": [
    "numerical_columns =['Year']"
   ]
  },
  {
   "cell_type": "code",
   "execution_count": 205,
   "metadata": {},
   "outputs": [
    {
     "data": {
      "text/html": [
       "<div>\n",
       "<style scoped>\n",
       "    .dataframe tbody tr th:only-of-type {\n",
       "        vertical-align: middle;\n",
       "    }\n",
       "\n",
       "    .dataframe tbody tr th {\n",
       "        vertical-align: top;\n",
       "    }\n",
       "\n",
       "    .dataframe thead th {\n",
       "        text-align: right;\n",
       "    }\n",
       "</style>\n",
       "<table border=\"1\" class=\"dataframe\">\n",
       "  <thead>\n",
       "    <tr style=\"text-align: right;\">\n",
       "      <th></th>\n",
       "      <th>Brand_0</th>\n",
       "      <th>Brand_1</th>\n",
       "      <th>Model_0</th>\n",
       "      <th>Model_1</th>\n",
       "      <th>Model_2</th>\n",
       "      <th>Model_3</th>\n",
       "      <th>Model_4</th>\n",
       "      <th>Body_0</th>\n",
       "      <th>Body_1</th>\n",
       "      <th>Color_0</th>\n",
       "      <th>...</th>\n",
       "      <th>Kilometers_4</th>\n",
       "      <th>Engine_0</th>\n",
       "      <th>Engine_1</th>\n",
       "      <th>Transmission_0</th>\n",
       "      <th>Transmission_1</th>\n",
       "      <th>Gov_0</th>\n",
       "      <th>Gov_1</th>\n",
       "      <th>Gov_2</th>\n",
       "      <th>Gov_3</th>\n",
       "      <th>Gov_4</th>\n",
       "    </tr>\n",
       "  </thead>\n",
       "  <tbody>\n",
       "    <tr>\n",
       "      <th>4037</th>\n",
       "      <td>0</td>\n",
       "      <td>1</td>\n",
       "      <td>0</td>\n",
       "      <td>0</td>\n",
       "      <td>0</td>\n",
       "      <td>0</td>\n",
       "      <td>1</td>\n",
       "      <td>0</td>\n",
       "      <td>1</td>\n",
       "      <td>0</td>\n",
       "      <td>...</td>\n",
       "      <td>1</td>\n",
       "      <td>0</td>\n",
       "      <td>1</td>\n",
       "      <td>0</td>\n",
       "      <td>1</td>\n",
       "      <td>0</td>\n",
       "      <td>0</td>\n",
       "      <td>0</td>\n",
       "      <td>0</td>\n",
       "      <td>1</td>\n",
       "    </tr>\n",
       "    <tr>\n",
       "      <th>6092</th>\n",
       "      <td>1</td>\n",
       "      <td>0</td>\n",
       "      <td>0</td>\n",
       "      <td>0</td>\n",
       "      <td>0</td>\n",
       "      <td>1</td>\n",
       "      <td>0</td>\n",
       "      <td>0</td>\n",
       "      <td>1</td>\n",
       "      <td>0</td>\n",
       "      <td>...</td>\n",
       "      <td>0</td>\n",
       "      <td>0</td>\n",
       "      <td>1</td>\n",
       "      <td>0</td>\n",
       "      <td>1</td>\n",
       "      <td>0</td>\n",
       "      <td>0</td>\n",
       "      <td>0</td>\n",
       "      <td>1</td>\n",
       "      <td>0</td>\n",
       "    </tr>\n",
       "    <tr>\n",
       "      <th>6191</th>\n",
       "      <td>1</td>\n",
       "      <td>0</td>\n",
       "      <td>0</td>\n",
       "      <td>0</td>\n",
       "      <td>0</td>\n",
       "      <td>1</td>\n",
       "      <td>1</td>\n",
       "      <td>0</td>\n",
       "      <td>1</td>\n",
       "      <td>0</td>\n",
       "      <td>...</td>\n",
       "      <td>1</td>\n",
       "      <td>1</td>\n",
       "      <td>0</td>\n",
       "      <td>1</td>\n",
       "      <td>0</td>\n",
       "      <td>0</td>\n",
       "      <td>0</td>\n",
       "      <td>0</td>\n",
       "      <td>1</td>\n",
       "      <td>1</td>\n",
       "    </tr>\n",
       "    <tr>\n",
       "      <th>9633</th>\n",
       "      <td>1</td>\n",
       "      <td>0</td>\n",
       "      <td>0</td>\n",
       "      <td>0</td>\n",
       "      <td>1</td>\n",
       "      <td>0</td>\n",
       "      <td>0</td>\n",
       "      <td>0</td>\n",
       "      <td>1</td>\n",
       "      <td>0</td>\n",
       "      <td>...</td>\n",
       "      <td>1</td>\n",
       "      <td>0</td>\n",
       "      <td>1</td>\n",
       "      <td>0</td>\n",
       "      <td>1</td>\n",
       "      <td>0</td>\n",
       "      <td>0</td>\n",
       "      <td>0</td>\n",
       "      <td>1</td>\n",
       "      <td>1</td>\n",
       "    </tr>\n",
       "    <tr>\n",
       "      <th>8372</th>\n",
       "      <td>1</td>\n",
       "      <td>0</td>\n",
       "      <td>0</td>\n",
       "      <td>0</td>\n",
       "      <td>0</td>\n",
       "      <td>1</td>\n",
       "      <td>0</td>\n",
       "      <td>0</td>\n",
       "      <td>1</td>\n",
       "      <td>0</td>\n",
       "      <td>...</td>\n",
       "      <td>0</td>\n",
       "      <td>0</td>\n",
       "      <td>1</td>\n",
       "      <td>0</td>\n",
       "      <td>1</td>\n",
       "      <td>0</td>\n",
       "      <td>0</td>\n",
       "      <td>1</td>\n",
       "      <td>0</td>\n",
       "      <td>0</td>\n",
       "    </tr>\n",
       "    <tr>\n",
       "      <th>...</th>\n",
       "      <td>...</td>\n",
       "      <td>...</td>\n",
       "      <td>...</td>\n",
       "      <td>...</td>\n",
       "      <td>...</td>\n",
       "      <td>...</td>\n",
       "      <td>...</td>\n",
       "      <td>...</td>\n",
       "      <td>...</td>\n",
       "      <td>...</td>\n",
       "      <td>...</td>\n",
       "      <td>...</td>\n",
       "      <td>...</td>\n",
       "      <td>...</td>\n",
       "      <td>...</td>\n",
       "      <td>...</td>\n",
       "      <td>...</td>\n",
       "      <td>...</td>\n",
       "      <td>...</td>\n",
       "      <td>...</td>\n",
       "      <td>...</td>\n",
       "    </tr>\n",
       "    <tr>\n",
       "      <th>14697</th>\n",
       "      <td>1</td>\n",
       "      <td>1</td>\n",
       "      <td>0</td>\n",
       "      <td>1</td>\n",
       "      <td>0</td>\n",
       "      <td>0</td>\n",
       "      <td>0</td>\n",
       "      <td>1</td>\n",
       "      <td>0</td>\n",
       "      <td>1</td>\n",
       "      <td>...</td>\n",
       "      <td>1</td>\n",
       "      <td>1</td>\n",
       "      <td>1</td>\n",
       "      <td>1</td>\n",
       "      <td>0</td>\n",
       "      <td>0</td>\n",
       "      <td>0</td>\n",
       "      <td>0</td>\n",
       "      <td>1</td>\n",
       "      <td>1</td>\n",
       "    </tr>\n",
       "    <tr>\n",
       "      <th>5260</th>\n",
       "      <td>0</td>\n",
       "      <td>1</td>\n",
       "      <td>0</td>\n",
       "      <td>0</td>\n",
       "      <td>1</td>\n",
       "      <td>1</td>\n",
       "      <td>0</td>\n",
       "      <td>0</td>\n",
       "      <td>1</td>\n",
       "      <td>1</td>\n",
       "      <td>...</td>\n",
       "      <td>1</td>\n",
       "      <td>0</td>\n",
       "      <td>1</td>\n",
       "      <td>1</td>\n",
       "      <td>0</td>\n",
       "      <td>1</td>\n",
       "      <td>0</td>\n",
       "      <td>1</td>\n",
       "      <td>1</td>\n",
       "      <td>0</td>\n",
       "    </tr>\n",
       "    <tr>\n",
       "      <th>5462</th>\n",
       "      <td>0</td>\n",
       "      <td>1</td>\n",
       "      <td>0</td>\n",
       "      <td>0</td>\n",
       "      <td>1</td>\n",
       "      <td>1</td>\n",
       "      <td>0</td>\n",
       "      <td>0</td>\n",
       "      <td>1</td>\n",
       "      <td>0</td>\n",
       "      <td>...</td>\n",
       "      <td>0</td>\n",
       "      <td>0</td>\n",
       "      <td>1</td>\n",
       "      <td>1</td>\n",
       "      <td>0</td>\n",
       "      <td>0</td>\n",
       "      <td>1</td>\n",
       "      <td>0</td>\n",
       "      <td>0</td>\n",
       "      <td>0</td>\n",
       "    </tr>\n",
       "    <tr>\n",
       "      <th>870</th>\n",
       "      <td>0</td>\n",
       "      <td>1</td>\n",
       "      <td>0</td>\n",
       "      <td>0</td>\n",
       "      <td>0</td>\n",
       "      <td>0</td>\n",
       "      <td>1</td>\n",
       "      <td>0</td>\n",
       "      <td>1</td>\n",
       "      <td>0</td>\n",
       "      <td>...</td>\n",
       "      <td>0</td>\n",
       "      <td>0</td>\n",
       "      <td>1</td>\n",
       "      <td>0</td>\n",
       "      <td>1</td>\n",
       "      <td>1</td>\n",
       "      <td>0</td>\n",
       "      <td>1</td>\n",
       "      <td>0</td>\n",
       "      <td>1</td>\n",
       "    </tr>\n",
       "    <tr>\n",
       "      <th>7354</th>\n",
       "      <td>1</td>\n",
       "      <td>0</td>\n",
       "      <td>0</td>\n",
       "      <td>0</td>\n",
       "      <td>1</td>\n",
       "      <td>0</td>\n",
       "      <td>0</td>\n",
       "      <td>0</td>\n",
       "      <td>1</td>\n",
       "      <td>0</td>\n",
       "      <td>...</td>\n",
       "      <td>0</td>\n",
       "      <td>0</td>\n",
       "      <td>1</td>\n",
       "      <td>0</td>\n",
       "      <td>1</td>\n",
       "      <td>0</td>\n",
       "      <td>0</td>\n",
       "      <td>1</td>\n",
       "      <td>0</td>\n",
       "      <td>0</td>\n",
       "    </tr>\n",
       "  </tbody>\n",
       "</table>\n",
       "<p>9605 rows × 30 columns</p>\n",
       "</div>"
      ],
      "text/plain": [
       "       Brand_0  Brand_1  Model_0  Model_1  Model_2  Model_3  Model_4  Body_0  \\\n",
       "4037         0        1        0        0        0        0        1       0   \n",
       "6092         1        0        0        0        0        1        0       0   \n",
       "6191         1        0        0        0        0        1        1       0   \n",
       "9633         1        0        0        0        1        0        0       0   \n",
       "8372         1        0        0        0        0        1        0       0   \n",
       "...        ...      ...      ...      ...      ...      ...      ...     ...   \n",
       "14697        1        1        0        1        0        0        0       1   \n",
       "5260         0        1        0        0        1        1        0       0   \n",
       "5462         0        1        0        0        1        1        0       0   \n",
       "870          0        1        0        0        0        0        1       0   \n",
       "7354         1        0        0        0        1        0        0       0   \n",
       "\n",
       "       Body_1  Color_0  ...  Kilometers_4  Engine_0  Engine_1  Transmission_0  \\\n",
       "4037        1        0  ...             1         0         1               0   \n",
       "6092        1        0  ...             0         0         1               0   \n",
       "6191        1        0  ...             1         1         0               1   \n",
       "9633        1        0  ...             1         0         1               0   \n",
       "8372        1        0  ...             0         0         1               0   \n",
       "...       ...      ...  ...           ...       ...       ...             ...   \n",
       "14697       0        1  ...             1         1         1               1   \n",
       "5260        1        1  ...             1         0         1               1   \n",
       "5462        1        0  ...             0         0         1               1   \n",
       "870         1        0  ...             0         0         1               0   \n",
       "7354        1        0  ...             0         0         1               0   \n",
       "\n",
       "       Transmission_1  Gov_0  Gov_1  Gov_2  Gov_3  Gov_4  \n",
       "4037                1      0      0      0      0      1  \n",
       "6092                1      0      0      0      1      0  \n",
       "6191                0      0      0      0      1      1  \n",
       "9633                1      0      0      0      1      1  \n",
       "8372                1      0      0      1      0      0  \n",
       "...               ...    ...    ...    ...    ...    ...  \n",
       "14697               0      0      0      0      1      1  \n",
       "5260                0      1      0      1      1      0  \n",
       "5462                0      0      1      0      0      0  \n",
       "870                 1      1      0      1      0      1  \n",
       "7354                1      0      0      1      0      0  \n",
       "\n",
       "[9605 rows x 30 columns]"
      ]
     },
     "execution_count": 205,
     "metadata": {},
     "output_type": "execute_result"
    }
   ],
   "source": [
    "x_train"
   ]
  },
  {
   "cell_type": "code",
   "execution_count": 206,
   "metadata": {},
   "outputs": [],
   "source": [
    "x_train[numerical_columns] = Scaler.fit_transform(x_train[numerical_columns])"
   ]
  },
  {
   "cell_type": "code",
   "execution_count": 207,
   "metadata": {},
   "outputs": [],
   "source": [
    "x_test[numerical_columns] = Scaler.transform(x_test[numerical_columns])"
   ]
  },
  {
   "cell_type": "code",
   "execution_count": 208,
   "metadata": {},
   "outputs": [],
   "source": [
    "scaler2 = MinMaxScaler()"
   ]
  },
  {
   "cell_type": "code",
   "execution_count": 209,
   "metadata": {},
   "outputs": [],
   "source": [
    "numericall_columns = [\"Price\"]"
   ]
  },
  {
   "cell_type": "code",
   "execution_count": 210,
   "metadata": {},
   "outputs": [
    {
     "data": {
      "text/html": [
       "<div>\n",
       "<style scoped>\n",
       "    .dataframe tbody tr th:only-of-type {\n",
       "        vertical-align: middle;\n",
       "    }\n",
       "\n",
       "    .dataframe tbody tr th {\n",
       "        vertical-align: top;\n",
       "    }\n",
       "\n",
       "    .dataframe thead th {\n",
       "        text-align: right;\n",
       "    }\n",
       "</style>\n",
       "<table border=\"1\" class=\"dataframe\">\n",
       "  <thead>\n",
       "    <tr style=\"text-align: right;\">\n",
       "      <th></th>\n",
       "      <th>Price</th>\n",
       "    </tr>\n",
       "  </thead>\n",
       "  <tbody>\n",
       "    <tr>\n",
       "      <th>4037</th>\n",
       "      <td>296.64</td>\n",
       "    </tr>\n",
       "    <tr>\n",
       "      <th>6092</th>\n",
       "      <td>264.00</td>\n",
       "    </tr>\n",
       "    <tr>\n",
       "      <th>6191</th>\n",
       "      <td>114.00</td>\n",
       "    </tr>\n",
       "    <tr>\n",
       "      <th>9633</th>\n",
       "      <td>262.20</td>\n",
       "    </tr>\n",
       "    <tr>\n",
       "      <th>8372</th>\n",
       "      <td>193.20</td>\n",
       "    </tr>\n",
       "    <tr>\n",
       "      <th>...</th>\n",
       "      <td>...</td>\n",
       "    </tr>\n",
       "    <tr>\n",
       "      <th>14697</th>\n",
       "      <td>62.16</td>\n",
       "    </tr>\n",
       "    <tr>\n",
       "      <th>5260</th>\n",
       "      <td>131.04</td>\n",
       "    </tr>\n",
       "    <tr>\n",
       "      <th>5462</th>\n",
       "      <td>231.84</td>\n",
       "    </tr>\n",
       "    <tr>\n",
       "      <th>870</th>\n",
       "      <td>354.00</td>\n",
       "    </tr>\n",
       "    <tr>\n",
       "      <th>7354</th>\n",
       "      <td>186.00</td>\n",
       "    </tr>\n",
       "  </tbody>\n",
       "</table>\n",
       "<p>9605 rows × 1 columns</p>\n",
       "</div>"
      ],
      "text/plain": [
       "        Price\n",
       "4037   296.64\n",
       "6092   264.00\n",
       "6191   114.00\n",
       "9633   262.20\n",
       "8372   193.20\n",
       "...       ...\n",
       "14697   62.16\n",
       "5260   131.04\n",
       "5462   231.84\n",
       "870    354.00\n",
       "7354   186.00\n",
       "\n",
       "[9605 rows x 1 columns]"
      ]
     },
     "execution_count": 210,
     "metadata": {},
     "output_type": "execute_result"
    }
   ],
   "source": [
    "y_train"
   ]
  },
  {
   "cell_type": "code",
   "execution_count": 211,
   "metadata": {},
   "outputs": [
    {
     "data": {
      "text/plain": [
       "Index(['Brand_0', 'Brand_1', 'Model_0', 'Model_1', 'Model_2', 'Model_3',\n",
       "       'Model_4', 'Body_0', 'Body_1', 'Color_0', 'Color_1', 'Color_2',\n",
       "       'Color_3', 'Year', 'Fuel_0', 'Fuel_1', 'Kilometers_0', 'Kilometers_1',\n",
       "       'Kilometers_2', 'Kilometers_3', 'Kilometers_4', 'Engine_0', 'Engine_1',\n",
       "       'Transmission_0', 'Transmission_1', 'Gov_0', 'Gov_1', 'Gov_2', 'Gov_3',\n",
       "       'Gov_4'],\n",
       "      dtype='object')"
      ]
     },
     "execution_count": 211,
     "metadata": {},
     "output_type": "execute_result"
    }
   ],
   "source": [
    "x_train.columns"
   ]
  },
  {
   "cell_type": "code",
   "execution_count": 212,
   "metadata": {},
   "outputs": [
    {
     "name": "stdout",
     "output_type": "stream",
     "text": [
      "Train_Score=  0.793236522627273\n"
     ]
    }
   ],
   "source": [
    "rid = Ridge(alpha= .000001)\n",
    "rid.fit(x_train,y_train)\n",
    "print(\"Train_Score= \",rid.score(x_train,y_train))"
   ]
  },
  {
   "cell_type": "code",
   "execution_count": 213,
   "metadata": {},
   "outputs": [
    {
     "name": "stdout",
     "output_type": "stream",
     "text": [
      "Train_Score=  0.7932365210330404\n"
     ]
    }
   ],
   "source": [
    "las = Lasso(alpha= .0001)\n",
    "las.fit(x_train,y_train)\n",
    "print(\"Train_Score= \",las.score(x_train,y_train))"
   ]
  },
  {
   "attachments": {},
   "cell_type": "markdown",
   "metadata": {},
   "source": [
    "# Linear Regression"
   ]
  },
  {
   "cell_type": "code",
   "execution_count": 214,
   "metadata": {},
   "outputs": [
    {
     "name": "stdout",
     "output_type": "stream",
     "text": [
      "Training Score:  0.7932365226272731\n",
      "Testing Score:  0.7852589470361826\n",
      "RMSE:  42.58566973998326\n"
     ]
    }
   ],
   "source": [
    "lr = LinearRegression()\n",
    "lr.fit(x_train, y_train)\n",
    "\n",
    "print(\"Training Score: \", lr.score(x_train, y_train))\n",
    "print(\"Testing Score: \", lr.score(x_test, y_test))\n",
    "print(\"RMSE: \", np.sqrt(mean_squared_error(y_test, lr.predict(x_test))))"
   ]
  },
  {
   "cell_type": "code",
   "execution_count": 215,
   "metadata": {},
   "outputs": [
    {
     "name": "stderr",
     "output_type": "stream",
     "text": [
      "c:\\Users\\HP\\anaconda3\\lib\\site-packages\\ipykernel_launcher.py:5: DataConversionWarning: A column-vector y was passed when a 1d array was expected. Please change the shape of y to (n_samples,), for example using ravel().\n",
      "  \"\"\"\n"
     ]
    },
    {
     "name": "stdout",
     "output_type": "stream",
     "text": [
      "Training Score:  0.9785893711310321\n",
      "Testing Score:  0.9085977897668961\n",
      "RMSE:  27.783329622422755\n"
     ]
    }
   ],
   "source": [
    "from sklearn.ensemble import RandomForestRegressor\n",
    "\n",
    "rf = RandomForestRegressor(n_estimators= 100, random_state= 42)\n",
    "\n",
    "rf.fit(x_train, y_train)\n",
    "\n",
    "print(\"Training Score: \", rf.score(x_train, y_train))\n",
    "print(\"Testing Score: \", rf.score(x_test, y_test))\n",
    "print(\"RMSE: \", np.sqrt(mean_squared_error(y_test, rf.predict(x_test))))"
   ]
  },
  {
   "cell_type": "code",
   "execution_count": 216,
   "metadata": {},
   "outputs": [
    {
     "name": "stdout",
     "output_type": "stream",
     "text": [
      "Training Accuracy:  0.898048604873904\n",
      "Test Accuracy:  0.8476701249203357\n"
     ]
    }
   ],
   "source": [
    "from sklearn.neighbors import KNeighborsRegressor\n",
    "knn_model= KNeighborsRegressor()\n",
    "knn_model.fit(x_train,y_train)\n",
    "\n",
    "print('Training Accuracy: ', knn_model.score(x_train, y_train))\n",
    "print('Test Accuracy: ', knn_model.score(x_test, y_test))"
   ]
  },
  {
   "cell_type": "code",
   "execution_count": 217,
   "metadata": {},
   "outputs": [
    {
     "name": "stdout",
     "output_type": "stream",
     "text": [
      "Training accuracy:  0.9565066232383704\n",
      "Testing accuracy:  0.9088757933064875\n"
     ]
    }
   ],
   "source": [
    "from xgboost import XGBRegressor\n",
    "xgb_reg = XGBRegressor()\n",
    "xgb_reg.fit(x_train, y_train)\n",
    "print(\"Training accuracy: \", xgb_reg.score(x_train, y_train))\n",
    "print(\"Testing accuracy: \", xgb_reg.score(x_test, y_test))"
   ]
  },
  {
   "cell_type": "code",
   "execution_count": 218,
   "metadata": {},
   "outputs": [
    {
     "data": {
      "text/html": [
       "<div>\n",
       "<style scoped>\n",
       "    .dataframe tbody tr th:only-of-type {\n",
       "        vertical-align: middle;\n",
       "    }\n",
       "\n",
       "    .dataframe tbody tr th {\n",
       "        vertical-align: top;\n",
       "    }\n",
       "\n",
       "    .dataframe thead th {\n",
       "        text-align: right;\n",
       "    }\n",
       "</style>\n",
       "<table border=\"1\" class=\"dataframe\">\n",
       "  <thead>\n",
       "    <tr style=\"text-align: right;\">\n",
       "      <th></th>\n",
       "      <th>Brand</th>\n",
       "      <th>Model</th>\n",
       "      <th>Body</th>\n",
       "      <th>Color</th>\n",
       "      <th>Year</th>\n",
       "      <th>Fuel</th>\n",
       "      <th>Kilometers</th>\n",
       "      <th>Engine</th>\n",
       "      <th>Transmission</th>\n",
       "      <th>Price</th>\n",
       "      <th>Gov</th>\n",
       "    </tr>\n",
       "  </thead>\n",
       "  <tbody>\n",
       "    <tr>\n",
       "      <th>0</th>\n",
       "      <td>Hyundai</td>\n",
       "      <td>Accent</td>\n",
       "      <td>Sedan</td>\n",
       "      <td>Black</td>\n",
       "      <td>2007</td>\n",
       "      <td>Benzine</td>\n",
       "      <td>140000 to 159999</td>\n",
       "      <td>1600 CC</td>\n",
       "      <td>Automatic</td>\n",
       "      <td>168.00</td>\n",
       "      <td>Giza</td>\n",
       "    </tr>\n",
       "    <tr>\n",
       "      <th>1</th>\n",
       "      <td>Hyundai</td>\n",
       "      <td>Accent</td>\n",
       "      <td>Sedan</td>\n",
       "      <td>Silver</td>\n",
       "      <td>2005</td>\n",
       "      <td>Benzine</td>\n",
       "      <td>180000 to 199999</td>\n",
       "      <td>1000 - 1300 CC</td>\n",
       "      <td>Manual</td>\n",
       "      <td>93.60</td>\n",
       "      <td>Qena</td>\n",
       "    </tr>\n",
       "    <tr>\n",
       "      <th>2</th>\n",
       "      <td>Hyundai</td>\n",
       "      <td>Accent</td>\n",
       "      <td>Sedan</td>\n",
       "      <td>Gray</td>\n",
       "      <td>1999</td>\n",
       "      <td>Benzine</td>\n",
       "      <td>140000 to 159999</td>\n",
       "      <td>1400 - 1500 CC</td>\n",
       "      <td>Manual</td>\n",
       "      <td>84.00</td>\n",
       "      <td>Giza</td>\n",
       "    </tr>\n",
       "    <tr>\n",
       "      <th>3</th>\n",
       "      <td>Hyundai</td>\n",
       "      <td>Accent</td>\n",
       "      <td>Sedan</td>\n",
       "      <td>Blue- Navy Blue</td>\n",
       "      <td>2009</td>\n",
       "      <td>Benzine</td>\n",
       "      <td>140000 to 159999</td>\n",
       "      <td>1600 CC</td>\n",
       "      <td>Automatic</td>\n",
       "      <td>180.00</td>\n",
       "      <td>Cairo</td>\n",
       "    </tr>\n",
       "    <tr>\n",
       "      <th>4</th>\n",
       "      <td>Hyundai</td>\n",
       "      <td>Accent</td>\n",
       "      <td>Sedan</td>\n",
       "      <td>Silver</td>\n",
       "      <td>2000</td>\n",
       "      <td>Benzine</td>\n",
       "      <td>10000 to 19999</td>\n",
       "      <td>1000 - 1300 CC</td>\n",
       "      <td>Manual</td>\n",
       "      <td>90.00</td>\n",
       "      <td>Giza</td>\n",
       "    </tr>\n",
       "    <tr>\n",
       "      <th>...</th>\n",
       "      <td>...</td>\n",
       "      <td>...</td>\n",
       "      <td>...</td>\n",
       "      <td>...</td>\n",
       "      <td>...</td>\n",
       "      <td>...</td>\n",
       "      <td>...</td>\n",
       "      <td>...</td>\n",
       "      <td>...</td>\n",
       "      <td>...</td>\n",
       "      <td>...</td>\n",
       "    </tr>\n",
       "    <tr>\n",
       "      <th>14736</th>\n",
       "      <td>Fiat</td>\n",
       "      <td>Uno</td>\n",
       "      <td>Hatchback</td>\n",
       "      <td>Burgundy</td>\n",
       "      <td>1997</td>\n",
       "      <td>Benzine</td>\n",
       "      <td>160000 to 179999</td>\n",
       "      <td>1000 - 1300 CC</td>\n",
       "      <td>Manual</td>\n",
       "      <td>55.20</td>\n",
       "      <td>Cairo</td>\n",
       "    </tr>\n",
       "    <tr>\n",
       "      <th>14737</th>\n",
       "      <td>Fiat</td>\n",
       "      <td>Uno</td>\n",
       "      <td>Hatchback</td>\n",
       "      <td>Silver</td>\n",
       "      <td>1996</td>\n",
       "      <td>Benzine</td>\n",
       "      <td>20000 to 29999</td>\n",
       "      <td>1000 - 1300 CC</td>\n",
       "      <td>Manual</td>\n",
       "      <td>55.20</td>\n",
       "      <td>Alexandria</td>\n",
       "    </tr>\n",
       "    <tr>\n",
       "      <th>14738</th>\n",
       "      <td>Fiat</td>\n",
       "      <td>Uno</td>\n",
       "      <td>Hatchback</td>\n",
       "      <td>Burgundy</td>\n",
       "      <td>1993</td>\n",
       "      <td>Benzine</td>\n",
       "      <td>10000 to 19999</td>\n",
       "      <td>1000 - 1300 CC</td>\n",
       "      <td>Manual</td>\n",
       "      <td>52.44</td>\n",
       "      <td>Giza</td>\n",
       "    </tr>\n",
       "    <tr>\n",
       "      <th>14739</th>\n",
       "      <td>Fiat</td>\n",
       "      <td>Uno</td>\n",
       "      <td>Hatchback</td>\n",
       "      <td>Silver</td>\n",
       "      <td>1996</td>\n",
       "      <td>Benzine</td>\n",
       "      <td>10000 to 19999</td>\n",
       "      <td>1000 - 1300 CC</td>\n",
       "      <td>Manual</td>\n",
       "      <td>82.80</td>\n",
       "      <td>Cairo</td>\n",
       "    </tr>\n",
       "    <tr>\n",
       "      <th>14740</th>\n",
       "      <td>Fiat</td>\n",
       "      <td>Uno</td>\n",
       "      <td>Hatchback</td>\n",
       "      <td>White</td>\n",
       "      <td>2000</td>\n",
       "      <td>Benzine</td>\n",
       "      <td>30000 to 39999</td>\n",
       "      <td>1000 - 1300 CC</td>\n",
       "      <td>Manual</td>\n",
       "      <td>48.24</td>\n",
       "      <td>Qalyubia</td>\n",
       "    </tr>\n",
       "  </tbody>\n",
       "</table>\n",
       "<p>12007 rows × 11 columns</p>\n",
       "</div>"
      ],
      "text/plain": [
       "         Brand   Model       Body            Color  Year     Fuel  \\\n",
       "0      Hyundai  Accent      Sedan            Black  2007  Benzine   \n",
       "1      Hyundai  Accent      Sedan           Silver  2005  Benzine   \n",
       "2      Hyundai  Accent      Sedan             Gray  1999  Benzine   \n",
       "3      Hyundai  Accent      Sedan  Blue- Navy Blue  2009  Benzine   \n",
       "4      Hyundai  Accent      Sedan           Silver  2000  Benzine   \n",
       "...        ...     ...        ...              ...   ...      ...   \n",
       "14736     Fiat     Uno  Hatchback         Burgundy  1997  Benzine   \n",
       "14737     Fiat     Uno  Hatchback           Silver  1996  Benzine   \n",
       "14738     Fiat     Uno  Hatchback         Burgundy  1993  Benzine   \n",
       "14739     Fiat     Uno  Hatchback           Silver  1996  Benzine   \n",
       "14740     Fiat     Uno  Hatchback            White  2000  Benzine   \n",
       "\n",
       "             Kilometers          Engine Transmission   Price         Gov  \n",
       "0      140000 to 159999         1600 CC    Automatic  168.00        Giza  \n",
       "1      180000 to 199999  1000 - 1300 CC       Manual   93.60        Qena  \n",
       "2      140000 to 159999  1400 - 1500 CC       Manual   84.00        Giza  \n",
       "3      140000 to 159999         1600 CC    Automatic  180.00       Cairo  \n",
       "4        10000 to 19999  1000 - 1300 CC       Manual   90.00        Giza  \n",
       "...                 ...             ...          ...     ...         ...  \n",
       "14736  160000 to 179999  1000 - 1300 CC       Manual   55.20       Cairo  \n",
       "14737    20000 to 29999  1000 - 1300 CC       Manual   55.20  Alexandria  \n",
       "14738    10000 to 19999  1000 - 1300 CC       Manual   52.44        Giza  \n",
       "14739    10000 to 19999  1000 - 1300 CC       Manual   82.80       Cairo  \n",
       "14740    30000 to 39999  1000 - 1300 CC       Manual   48.24    Qalyubia  \n",
       "\n",
       "[12007 rows x 11 columns]"
      ]
     },
     "execution_count": 218,
     "metadata": {},
     "output_type": "execute_result"
    }
   ],
   "source": [
    "df"
   ]
  },
  {
   "cell_type": "code",
   "execution_count": 219,
   "metadata": {},
   "outputs": [
    {
     "data": {
      "text/plain": [
       "<AxesSubplot:xlabel='Brand', ylabel='Price'>"
      ]
     },
     "execution_count": 219,
     "metadata": {},
     "output_type": "execute_result"
    },
    {
     "data": {
      "image/png": "[encoded data removed]",
      "text/plain": [
       "<Figure size 432x288 with 1 Axes>"
      ]
     },
     "metadata": {
      "needs_background": "light"
     },
     "output_type": "display_data"
    }
   ],
   "source": [
    "sns.barplot(x=df['Brand'],y= df['Price'], palette='viridis')"
   ]
  },
  {
   "cell_type": "code",
   "execution_count": 220,
   "metadata": {},
   "outputs": [
    {
     "data": {
      "text/plain": [
       "<AxesSubplot:xlabel='Engine', ylabel='Price'>"
      ]
     },
     "execution_count": 220,
     "metadata": {},
     "output_type": "execute_result"
    },
    {
     "data": {
      "image/png": "[encoded data removed]",
      "text/plain": [
       "<Figure size 432x288 with 1 Axes>"
      ]
     },
     "metadata": {
      "needs_background": "light"
     },
     "output_type": "display_data"
    }
   ],
   "source": [
    "sns.barplot(x=df['Engine'],y= df['Price'], palette='viridis')"
   ]
  },
  {
   "cell_type": "code",
   "execution_count": 221,
   "metadata": {},
   "outputs": [
    {
     "data": {
      "text/plain": [
       "<AxesSubplot:xlabel='Transmission', ylabel='Price'>"
      ]
     },
     "execution_count": 221,
     "metadata": {},
     "output_type": "execute_result"
    },
    {
     "data": {
      "image/png": "[encoded data removed]",
      "text/plain": [
       "<Figure size 432x288 with 1 Axes>"
      ]
     },
     "metadata": {
      "needs_background": "light"
     },
     "output_type": "display_data"
    }
   ],
   "source": [
    "sns.barplot(x=df['Transmission'],y= df['Price'], palette='viridis')"
   ]
  },
  {
   "cell_type": "code",
   "execution_count": 222,
   "metadata": {},
   "outputs": [
    {
     "data": {
      "image/png": "[encoded data removed]",
      "text/plain": [
       "<Figure size 1008x936 with 1 Axes>"
      ]
     },
     "metadata": {
      "needs_background": "light"
     },
     "output_type": "display_data"
    }
   ],
   "source": [
    "plt.figure(figsize=(14,13))\n",
    "ax = sns.countplot(y = df[\"Year\"] , palette='viridis');"
   ]
  },
  {
   "cell_type": "code",
   "execution_count": 223,
   "metadata": {},
   "outputs": [
    {
     "data": {
      "image/png": "[encoded data removed]",
      "text/plain": [
       "<Figure size 1008x936 with 1 Axes>"
      ]
     },
     "metadata": {
      "needs_background": "light"
     },
     "output_type": "display_data"
    }
   ],
   "source": [
    "plt.figure(figsize=(14,13))\n",
    "ax = sns.countplot(y = df[\"Gov\"] , palette='viridis');\n"
   ]
  },
  {
   "cell_type": "code",
   "execution_count": 224,
   "metadata": {},
   "outputs": [],
   "source": [
    "input_data = {}\n",
    "input_data = { 'Brand' :'Hyundai',\n",
    "              \"Model\" :'Accent',\n",
    "              \"Body\" :'Sedan', \n",
    "              \"Color\" : 'Gold', \n",
    "              \"Year\" :[2014],\n",
    "              \"Fuel\" :'Benzine', \n",
    "              \"Kilometers\" :'140000 to 159999',\n",
    "              \"Engine\":'1600 CC',\n",
    "              \"Transmission\" :'Automatic',\n",
    "              \"Gov\":'Ismailia'}\n",
    "x_x = pd.DataFrame.from_dict(input_data)\n",
    "#input_data_reshaped = input_data.reshape(1,-1)\n",
    "#prediction1 = rf.predict(input_data_reshaped)\n",
    "#print(prediction1)"
   ]
  },
  {
   "cell_type": "code",
   "execution_count": 225,
   "metadata": {},
   "outputs": [],
   "source": [
    "x_x = encoder.transform(x_x)"
   ]
  },
  {
   "cell_type": "code",
   "execution_count": 226,
   "metadata": {},
   "outputs": [],
   "source": [
    "x_x[numerical_columns] = Scaler.transform(x_x[numerical_columns])"
   ]
  },
  {
   "cell_type": "code",
   "execution_count": 227,
   "metadata": {},
   "outputs": [
    {
     "data": {
      "text/plain": [
       "Index(['Brand_0', 'Brand_1', 'Model_0', 'Model_1', 'Model_2', 'Model_3',\n",
       "       'Model_4', 'Body_0', 'Body_1', 'Color_0', 'Color_1', 'Color_2',\n",
       "       'Color_3', 'Year', 'Fuel_0', 'Fuel_1', 'Kilometers_0', 'Kilometers_1',\n",
       "       'Kilometers_2', 'Kilometers_3', 'Kilometers_4', 'Engine_0', 'Engine_1',\n",
       "       'Transmission_0', 'Transmission_1', 'Gov_0', 'Gov_1', 'Gov_2', 'Gov_3',\n",
       "       'Gov_4'],\n",
       "      dtype='object')"
      ]
     },
     "execution_count": 227,
     "metadata": {},
     "output_type": "execute_result"
    }
   ],
   "source": [
    "x_train.columns"
   ]
  },
  {
   "cell_type": "code",
   "execution_count": 228,
   "metadata": {},
   "outputs": [],
   "source": [
    "prediction1 = lr.predict(x_x)"
   ]
  },
  {
   "cell_type": "code",
   "execution_count": 229,
   "metadata": {},
   "outputs": [
    {
     "data": {
      "text/plain": [
       "array([[265.69098444]])"
      ]
     },
     "execution_count": 229,
     "metadata": {},
     "output_type": "execute_result"
    }
   ],
   "source": [
    "prediction1"
   ]
  },
  {
   "attachments": {},
   "cell_type": "markdown",
   "metadata": {},
   "source": [
    "# Saving the trained model"
   ]
  },
  {
   "cell_type": "code",
   "execution_count": 230,
   "metadata": {},
   "outputs": [],
   "source": [
    "import pickle"
   ]
  },
  {
   "cell_type": "code",
   "execution_count": 231,
   "metadata": {},
   "outputs": [],
   "source": [
    "filename = 'trained_model.sav'\n",
    "pickle.dump(rf, open(filename, 'wb'))"
   ]
  },
  {
   "cell_type": "code",
   "execution_count": 232,
   "metadata": {},
   "outputs": [],
   "source": [
    "# loading the saved model\n",
    "loaded_model = pickle.load(open('trained_model.sav','rb'))"
   ]
  },
  {
   "cell_type": "code",
   "execution_count": 233,
   "metadata": {},
   "outputs": [],
   "source": [
    "filename = 'trained_model_xgboost.sav'\n",
    "pickle.dump(xgb_reg, open(filename, 'wb'))"
   ]
  },
  {
   "cell_type": "code",
   "execution_count": 234,
   "metadata": {},
   "outputs": [],
   "source": [
    "loaded_model = pickle.load(open('trained_model_xgboost.sav','rb'))"
   ]
  },
  {
   "cell_type": "code",
   "execution_count": 235,
   "metadata": {},
   "outputs": [],
   "source": [
    "import pandas_profiling as pp"
   ]
  },
  {
   "cell_type": "code",
   "execution_count": 236,
   "metadata": {},
   "outputs": [
    {
     "data": {
      "application/vnd.jupyter.widget-view+json": {
       "model_id": "42f31e0fb83a491ea8f080c98becd729",
       "version_major": 2,
       "version_minor": 0
      },
      "text/plain": [
       "Summarize dataset:   0%|          | 0/5 [00:00<?, ?it/s]"
      ]
     },
     "metadata": {},
     "output_type": "display_data"
    },
    {
     "data": {
      "application/vnd.jupyter.widget-view+json": {
       "model_id": "889e7264e0fb4eba8a3856355bd0f476",
       "version_major": 2,
       "version_minor": 0
      },
      "text/plain": [
       "Generate report structure:   0%|          | 0/1 [00:00<?, ?it/s]"
      ]
     },
     "metadata": {},
     "output_type": "display_data"
    },
    {
     "data": {
      "application/vnd.jupyter.widget-view+json": {
       "model_id": "a0a1a24a6a6d4c06b3d20e9d5fd40b79",
       "version_major": 2,
       "version_minor": 0
      },
      "text/plain": [
       "Render HTML:   0%|          | 0/1 [00:00<?, ?it/s]"
      ]
     },
     "metadata": {},
     "output_type": "display_data"
    },
    {
     "data": {
      "application/vnd.jupyter.widget-view+json": {
       "model_id": "7338ead26fe7458a9a32ebf6da4ab239",
       "version_major": 2,
       "version_minor": 0
      },
      "text/plain": [
       "Export report to file:   0%|          | 0/1 [00:00<?, ?it/s]"
      ]
     },
     "metadata": {},
     "output_type": "display_data"
    }
   ],
   "source": [
    "profile = pp.ProfileReport(df)\n",
    "profile.to_file(\"outbut.html\")"
   ]
  }
 ],
 "metadata": {
  "kernelspec": {
   "display_name": "base",
   "language": "python",
   "name": "python3"
  },
  "language_info": {
   "codemirror_mode": {
    "name": "ipython",
    "version": 3
   },
   "file_extension": ".py",
   "mimetype": "text/x-python",
   "name": "python",
   "nbconvert_exporter": "python",
   "pygments_lexer": "ipython3",
   "version": "3.7.6"
  },
  "orig_nbformat": 4,
  "vscode": {
   "interpreter": {
    "hash": "dc07d24e2f18896857f0b2a651fe84ba40ce7b297e58d8804a308c8039f752a6"
   }
  }
 },
 "nbformat": 4,
 "nbformat_minor": 2
}
